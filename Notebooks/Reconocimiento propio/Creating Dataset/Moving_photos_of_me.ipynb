{
 "cells": [
  {
   "cell_type": "code",
   "execution_count": 3,
   "id": "1ca9dbad",
   "metadata": {
    "ExecuteTime": {
     "end_time": "2022-11-15T04:20:12.292275Z",
     "start_time": "2022-11-15T04:20:12.287285Z"
    }
   },
   "outputs": [
    {
     "data": {
      "text/plain": [
       "['cap 10.jpg',\n",
       " 'cap1.jpg',\n",
       " 'cap100.jpg',\n",
       " 'cap101.jpg',\n",
       " 'cap102.jpg',\n",
       " 'cap103.jpg',\n",
       " 'cap104.jpg',\n",
       " 'cap105.jpg',\n",
       " 'cap11.jpg',\n",
       " 'cap12.jpg',\n",
       " 'cap13.jpg',\n",
       " 'cap14.jpg',\n",
       " 'cap15.jpg',\n",
       " 'cap16.jpg',\n",
       " 'cap17.jpg',\n",
       " 'cap19.jpg',\n",
       " 'cap2.jpg',\n",
       " 'cap20.jpg',\n",
       " 'cap21.jpg',\n",
       " 'cap22.jpg',\n",
       " 'cap23.jpg',\n",
       " 'cap24.jpg',\n",
       " 'cap25.jpg',\n",
       " 'cap26.jpg',\n",
       " 'cap27.jpg',\n",
       " 'cap28.jpg',\n",
       " 'cap29.jpg',\n",
       " 'cap3.jpg',\n",
       " 'cap30.jpg',\n",
       " 'cap31.JPG',\n",
       " 'cap32.JPG',\n",
       " 'cap33.JPG',\n",
       " 'cap34.jpg',\n",
       " 'cap35.jpg',\n",
       " 'cap36.jpg',\n",
       " 'cap37.jpg',\n",
       " 'cap38.jpg',\n",
       " 'cap39.jpg',\n",
       " 'cap4.jpg',\n",
       " 'cap40.jpg',\n",
       " 'cap41.jpg',\n",
       " 'cap42.jpg',\n",
       " 'cap43.jpg',\n",
       " 'cap44.jpg',\n",
       " 'cap45.jpg',\n",
       " 'cap46.jpg',\n",
       " 'cap47.jpg',\n",
       " 'cap48.jpg',\n",
       " 'cap49.jpg',\n",
       " 'cap5.jpg',\n",
       " 'cap50.jpg',\n",
       " 'cap51.jpg',\n",
       " 'cap52.jpg',\n",
       " 'cap53.jpg',\n",
       " 'cap54.jpg',\n",
       " 'cap55.jpg',\n",
       " 'cap56.jpg',\n",
       " 'cap57.jpg',\n",
       " 'cap58.jpg',\n",
       " 'cap59.jpg',\n",
       " 'cap6.jpg',\n",
       " 'cap60.jpg',\n",
       " 'cap61.jpg',\n",
       " 'cap62.jpg',\n",
       " 'cap63.jpg',\n",
       " 'cap64.jpg',\n",
       " 'cap65.jpg',\n",
       " 'cap66.jpg',\n",
       " 'cap67.jpg',\n",
       " 'cap68.jpg',\n",
       " 'cap69.jpg',\n",
       " 'cap7.jpg',\n",
       " 'cap70.jpg',\n",
       " 'cap71.jpg',\n",
       " 'cap72.jpg',\n",
       " 'cap73.jpg',\n",
       " 'cap74.jpg',\n",
       " 'cap75.jpg',\n",
       " 'cap76.jpg',\n",
       " 'cap77.jpg',\n",
       " 'cap78.jpg',\n",
       " 'cap79.jpg',\n",
       " 'cap8.jpg',\n",
       " 'cap80.jpg',\n",
       " 'cap81.jpg',\n",
       " 'cap82.jpg',\n",
       " 'cap83.jpg',\n",
       " 'cap84.jpg',\n",
       " 'cap85.jpg',\n",
       " 'cap86.jpg',\n",
       " 'cap87.jpg',\n",
       " 'cap88.jpg',\n",
       " 'cap89.jpg',\n",
       " 'cap9.jpg',\n",
       " 'cap90.jpg',\n",
       " 'cap91.jpg',\n",
       " 'cap92.jpg',\n",
       " 'cap93.jpg',\n",
       " 'cap94.jpg',\n",
       " 'cap95.jpg',\n",
       " 'cap96.jpg',\n",
       " 'cap97.jpg',\n",
       " 'cap98.jpg',\n",
       " 'cap99.jpg']"
      ]
     },
     "execution_count": 3,
     "metadata": {},
     "output_type": "execute_result"
    }
   ],
   "source": [
    "import os\n",
    "mypath = '../../../Data/Recognize_me/Total_Me/'\n",
    "allimage = os.listdir(mypath)\n",
    "allimage"
   ]
  },
  {
   "cell_type": "code",
   "execution_count": 4,
   "id": "71290008",
   "metadata": {
    "ExecuteTime": {
     "end_time": "2022-11-15T04:20:15.671830Z",
     "start_time": "2022-11-15T04:20:15.503374Z"
    }
   },
   "outputs": [
    {
     "data": {
      "text/html": [
       "<div>\n",
       "<style scoped>\n",
       "    .dataframe tbody tr th:only-of-type {\n",
       "        vertical-align: middle;\n",
       "    }\n",
       "\n",
       "    .dataframe tbody tr th {\n",
       "        vertical-align: top;\n",
       "    }\n",
       "\n",
       "    .dataframe thead th {\n",
       "        text-align: right;\n",
       "    }\n",
       "</style>\n",
       "<table border=\"1\" class=\"dataframe\">\n",
       "  <thead>\n",
       "    <tr style=\"text-align: right;\">\n",
       "      <th></th>\n",
       "      <th>Image</th>\n",
       "    </tr>\n",
       "  </thead>\n",
       "  <tbody>\n",
       "    <tr>\n",
       "      <th>96</th>\n",
       "      <td>cap92.jpg</td>\n",
       "    </tr>\n",
       "    <tr>\n",
       "      <th>35</th>\n",
       "      <td>cap37.jpg</td>\n",
       "    </tr>\n",
       "    <tr>\n",
       "      <th>81</th>\n",
       "      <td>cap79.jpg</td>\n",
       "    </tr>\n",
       "    <tr>\n",
       "      <th>59</th>\n",
       "      <td>cap59.jpg</td>\n",
       "    </tr>\n",
       "    <tr>\n",
       "      <th>38</th>\n",
       "      <td>cap4.jpg</td>\n",
       "    </tr>\n",
       "    <tr>\n",
       "      <th>...</th>\n",
       "      <td>...</td>\n",
       "    </tr>\n",
       "    <tr>\n",
       "      <th>100</th>\n",
       "      <td>cap96.jpg</td>\n",
       "    </tr>\n",
       "    <tr>\n",
       "      <th>13</th>\n",
       "      <td>cap16.jpg</td>\n",
       "    </tr>\n",
       "    <tr>\n",
       "      <th>68</th>\n",
       "      <td>cap67.jpg</td>\n",
       "    </tr>\n",
       "    <tr>\n",
       "      <th>89</th>\n",
       "      <td>cap86.jpg</td>\n",
       "    </tr>\n",
       "    <tr>\n",
       "      <th>14</th>\n",
       "      <td>cap17.jpg</td>\n",
       "    </tr>\n",
       "  </tbody>\n",
       "</table>\n",
       "<p>83 rows × 1 columns</p>\n",
       "</div>"
      ],
      "text/plain": [
       "         Image\n",
       "96   cap92.jpg\n",
       "35   cap37.jpg\n",
       "81   cap79.jpg\n",
       "59   cap59.jpg\n",
       "38    cap4.jpg\n",
       "..         ...\n",
       "100  cap96.jpg\n",
       "13   cap16.jpg\n",
       "68   cap67.jpg\n",
       "89   cap86.jpg\n",
       "14   cap17.jpg\n",
       "\n",
       "[83 rows x 1 columns]"
      ]
     },
     "execution_count": 4,
     "metadata": {},
     "output_type": "execute_result"
    }
   ],
   "source": [
    "import pandas as pd\n",
    "allimagedf = pd.DataFrame(allimage,columns = ['Image'])\n",
    "trainimage = allimagedf.sample(frac =0.8, random_state=1)\n",
    "trainimage"
   ]
  },
  {
   "cell_type": "code",
   "execution_count": 5,
   "id": "387475e6",
   "metadata": {
    "ExecuteTime": {
     "end_time": "2022-11-15T04:20:19.005774Z",
     "start_time": "2022-11-15T04:20:19.000761Z"
    }
   },
   "outputs": [
    {
     "data": {
      "text/plain": [
       "83"
      ]
     },
     "execution_count": 5,
     "metadata": {},
     "output_type": "execute_result"
    }
   ],
   "source": [
    "trainimagelist = list(trainimage['Image'])\n",
    "len(trainimage)"
   ]
  },
  {
   "cell_type": "code",
   "execution_count": 6,
   "id": "7a0a3896",
   "metadata": {
    "ExecuteTime": {
     "end_time": "2022-11-15T04:41:49.754670Z",
     "start_time": "2022-11-15T04:41:49.635201Z"
    }
   },
   "outputs": [],
   "source": [
    "import shutil\n",
    "import glob\n",
    "path_train = '../../../Data/Recognize_me/Train/Me'\n",
    "\n",
    "for i in range(0,83): \n",
    "    old_path = os.path.join(mypath,trainimagelist[i])\n",
    "    shutil.copy(old_path, path_train)"
   ]
  },
  {
   "cell_type": "code",
   "execution_count": 7,
   "id": "f4f8cc73",
   "metadata": {
    "ExecuteTime": {
     "end_time": "2022-11-15T04:42:03.564280Z",
     "start_time": "2022-11-15T04:42:03.548250Z"
    }
   },
   "outputs": [
    {
     "data": {
      "text/plain": [
       "10"
      ]
     },
     "execution_count": 7,
     "metadata": {},
     "output_type": "execute_result"
    }
   ],
   "source": [
    "valandtest = allimagedf.drop(trainimage.index)\n",
    "valimage = valandtest.sample(frac = 0.5, random_state=1)\n",
    "len(valimage)"
   ]
  },
  {
   "cell_type": "code",
   "execution_count": 8,
   "id": "1947d748",
   "metadata": {
    "ExecuteTime": {
     "end_time": "2022-11-15T04:42:04.085607Z",
     "start_time": "2022-11-15T04:42:04.071282Z"
    }
   },
   "outputs": [
    {
     "data": {
      "text/plain": [
       "10"
      ]
     },
     "execution_count": 8,
     "metadata": {},
     "output_type": "execute_result"
    }
   ],
   "source": [
    "valimagelist = list(valimage['Image'])\n",
    "len(valimagelist)"
   ]
  },
  {
   "cell_type": "code",
   "execution_count": 9,
   "id": "2b16b10c",
   "metadata": {
    "ExecuteTime": {
     "end_time": "2022-11-15T04:42:05.207665Z",
     "start_time": "2022-11-15T04:42:05.184665Z"
    }
   },
   "outputs": [],
   "source": [
    "path_val = '../../../Data/Recognize_me/Val/Me'\n",
    "for i in range(0,10): \n",
    "    old_path = os.path.join(mypath,valimagelist[i])\n",
    "    shutil.copy(old_path, path_val)"
   ]
  },
  {
   "cell_type": "code",
   "execution_count": 10,
   "id": "f78785dd",
   "metadata": {
    "ExecuteTime": {
     "end_time": "2022-11-15T04:42:05.712850Z",
     "start_time": "2022-11-15T04:42:05.689666Z"
    }
   },
   "outputs": [
    {
     "data": {
      "text/html": [
       "<div>\n",
       "<style scoped>\n",
       "    .dataframe tbody tr th:only-of-type {\n",
       "        vertical-align: middle;\n",
       "    }\n",
       "\n",
       "    .dataframe tbody tr th {\n",
       "        vertical-align: top;\n",
       "    }\n",
       "\n",
       "    .dataframe thead th {\n",
       "        text-align: right;\n",
       "    }\n",
       "</style>\n",
       "<table border=\"1\" class=\"dataframe\">\n",
       "  <thead>\n",
       "    <tr style=\"text-align: right;\">\n",
       "      <th></th>\n",
       "      <th>Image</th>\n",
       "    </tr>\n",
       "  </thead>\n",
       "  <tbody>\n",
       "    <tr>\n",
       "      <th>1</th>\n",
       "      <td>cap1.jpg</td>\n",
       "    </tr>\n",
       "    <tr>\n",
       "      <th>5</th>\n",
       "      <td>cap103.jpg</td>\n",
       "    </tr>\n",
       "    <tr>\n",
       "      <th>12</th>\n",
       "      <td>cap15.jpg</td>\n",
       "    </tr>\n",
       "    <tr>\n",
       "      <th>18</th>\n",
       "      <td>cap21.jpg</td>\n",
       "    </tr>\n",
       "    <tr>\n",
       "      <th>20</th>\n",
       "      <td>cap23.jpg</td>\n",
       "    </tr>\n",
       "    <tr>\n",
       "      <th>25</th>\n",
       "      <td>cap28.jpg</td>\n",
       "    </tr>\n",
       "    <tr>\n",
       "      <th>29</th>\n",
       "      <td>cap31.JPG</td>\n",
       "    </tr>\n",
       "    <tr>\n",
       "      <th>37</th>\n",
       "      <td>cap39.jpg</td>\n",
       "    </tr>\n",
       "    <tr>\n",
       "      <th>50</th>\n",
       "      <td>cap50.jpg</td>\n",
       "    </tr>\n",
       "    <tr>\n",
       "      <th>79</th>\n",
       "      <td>cap77.jpg</td>\n",
       "    </tr>\n",
       "    <tr>\n",
       "      <th>84</th>\n",
       "      <td>cap81.jpg</td>\n",
       "    </tr>\n",
       "  </tbody>\n",
       "</table>\n",
       "</div>"
      ],
      "text/plain": [
       "         Image\n",
       "1     cap1.jpg\n",
       "5   cap103.jpg\n",
       "12   cap15.jpg\n",
       "18   cap21.jpg\n",
       "20   cap23.jpg\n",
       "25   cap28.jpg\n",
       "29   cap31.JPG\n",
       "37   cap39.jpg\n",
       "50   cap50.jpg\n",
       "79   cap77.jpg\n",
       "84   cap81.jpg"
      ]
     },
     "execution_count": 10,
     "metadata": {},
     "output_type": "execute_result"
    }
   ],
   "source": [
    "testimage = valandtest.drop(valimage.index)\n",
    "testimage"
   ]
  },
  {
   "cell_type": "code",
   "execution_count": 11,
   "id": "9143eaef",
   "metadata": {
    "ExecuteTime": {
     "end_time": "2022-11-15T04:42:06.250342Z",
     "start_time": "2022-11-15T04:42:06.232309Z"
    }
   },
   "outputs": [
    {
     "data": {
      "text/plain": [
       "11"
      ]
     },
     "execution_count": 11,
     "metadata": {},
     "output_type": "execute_result"
    }
   ],
   "source": [
    "testimagelist = list(testimage['Image'])\n",
    "len(testimagelist)"
   ]
  },
  {
   "cell_type": "code",
   "execution_count": 21,
   "id": "d7a0bb40",
   "metadata": {
    "ExecuteTime": {
     "end_time": "2022-11-15T04:47:07.632538Z",
     "start_time": "2022-11-15T04:47:07.597161Z"
    }
   },
   "outputs": [],
   "source": [
    "path_test = '../../../Data/Recognize_me/Test/Me'\n",
    "for i in range(0,11): \n",
    "    old_path = os.path.join(mypath,testimagelist[i])\n",
    "    shutil.copy(old_path, path_test)"
   ]
  },
  {
   "cell_type": "code",
   "execution_count": 19,
   "id": "6f166d06",
   "metadata": {
    "ExecuteTime": {
     "end_time": "2022-11-15T04:45:41.461022Z",
     "start_time": "2022-11-15T04:45:41.456021Z"
    }
   },
   "outputs": [
    {
     "data": {
      "text/plain": [
       "104"
      ]
     },
     "execution_count": 19,
     "metadata": {},
     "output_type": "execute_result"
    }
   ],
   "source": [
    "valimage.shape[0]+trainimage.shape[0]+testimage.shape[0]"
   ]
  }
 ],
 "metadata": {
  "hide_input": false,
  "kernelspec": {
   "display_name": "Python 3 (ipykernel)",
   "language": "python",
   "name": "python3"
  },
  "language_info": {
   "codemirror_mode": {
    "name": "ipython",
    "version": 3
   },
   "file_extension": ".py",
   "mimetype": "text/x-python",
   "name": "python",
   "nbconvert_exporter": "python",
   "pygments_lexer": "ipython3",
   "version": "3.9.12"
  },
  "toc": {
   "base_numbering": 1,
   "nav_menu": {},
   "number_sections": true,
   "sideBar": true,
   "skip_h1_title": false,
   "title_cell": "Table of Contents",
   "title_sidebar": "Contents",
   "toc_cell": false,
   "toc_position": {},
   "toc_section_display": true,
   "toc_window_display": false
  },
  "varInspector": {
   "cols": {
    "lenName": 16,
    "lenType": 16,
    "lenVar": 40
   },
   "kernels_config": {
    "python": {
     "delete_cmd_postfix": "",
     "delete_cmd_prefix": "del ",
     "library": "var_list.py",
     "varRefreshCmd": "print(var_dic_list())"
    },
    "r": {
     "delete_cmd_postfix": ") ",
     "delete_cmd_prefix": "rm(",
     "library": "var_list.r",
     "varRefreshCmd": "cat(var_dic_list()) "
    }
   },
   "types_to_exclude": [
    "module",
    "function",
    "builtin_function_or_method",
    "instance",
    "_Feature"
   ],
   "window_display": false
  }
 },
 "nbformat": 4,
 "nbformat_minor": 5
}
