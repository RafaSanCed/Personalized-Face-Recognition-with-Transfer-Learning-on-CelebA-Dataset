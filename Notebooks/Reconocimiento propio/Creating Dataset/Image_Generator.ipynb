{
 "cells": [
  {
   "cell_type": "markdown",
   "id": "ddb22c25",
   "metadata": {},
   "source": [
    "# Importamos librerías"
   ]
  },
  {
   "cell_type": "code",
   "execution_count": null,
   "id": "9fd60931",
   "metadata": {
    "ExecuteTime": {
     "end_time": "2022-11-15T05:38:18.425403Z",
     "start_time": "2022-11-15T05:38:16.444133Z"
    }
   },
   "outputs": [],
   "source": [
    "import os \n",
    "import matplotlib.pyplot as plt  \n",
    "from keras.preprocessing.image import ImageDataGenerator\n",
    "from keras_preprocessing.image import img_to_array, load_img\n",
    "import numpy as np\n",
    "from PIL import Image as PImage"
   ]
  },
  {
   "cell_type": "markdown",
   "id": "bb56cb61",
   "metadata": {},
   "source": [
    "# Defining ruta para de las imágenes"
   ]
  },
  {
   "cell_type": "code",
   "execution_count": null,
   "id": "e529a95b",
   "metadata": {
    "ExecuteTime": {
     "end_time": "2022-11-15T05:38:22.482467Z",
     "start_time": "2022-11-15T05:38:22.467003Z"
    }
   },
   "outputs": [],
   "source": [
    "base_dir = '../../../Data/Recognize_me/'"
   ]
  },
  {
   "cell_type": "code",
   "execution_count": null,
   "id": "1d2e8fef",
   "metadata": {
    "ExecuteTime": {
     "end_time": "2022-11-15T05:38:22.858096Z",
     "start_time": "2022-11-15T05:38:22.850369Z"
    }
   },
   "outputs": [],
   "source": [
    "train_dir = os.path.join(base_dir, 'Train/Me/')\n",
    "validation_dir = os.path.join(base_dir, 'Val/Me')\n",
    "test_dir = os.path.join(base_dir, 'Test/Me')"
   ]
  },
  {
   "cell_type": "code",
   "execution_count": null,
   "id": "7e6dde9d",
   "metadata": {
    "ExecuteTime": {
     "end_time": "2022-11-15T05:38:24.284501Z",
     "start_time": "2022-11-15T05:38:24.280942Z"
    }
   },
   "outputs": [],
   "source": [
    "image_train = os.listdir(train_dir)\n",
    "image_validation = os.listdir(validation_dir)\n",
    "image_test = os.listdir(test_dir)"
   ]
  },
  {
   "cell_type": "code",
   "execution_count": null,
   "id": "caeaefb4",
   "metadata": {
    "ExecuteTime": {
     "end_time": "2022-11-15T05:38:24.780386Z",
     "start_time": "2022-11-15T05:38:24.766878Z"
    }
   },
   "outputs": [],
   "source": [
    "image_dir_train = []\n",
    "for i in range(0, len(image_train)):\n",
    "    image_dir_train.append(os.path.join(train_dir, image_train[i]))"
   ]
  },
  {
   "cell_type": "code",
   "execution_count": null,
   "id": "8abb5e18",
   "metadata": {
    "ExecuteTime": {
     "end_time": "2022-11-15T05:38:25.263574Z",
     "start_time": "2022-11-15T05:38:25.249005Z"
    }
   },
   "outputs": [],
   "source": [
    "image_dir_validation = []\n",
    "for i in range(0, len(image_validation)):\n",
    "    image_dir_validation.append(os.path.join(validation_dir, image_validation[i]))\n"
   ]
  },
  {
   "cell_type": "code",
   "execution_count": null,
   "id": "5d30d089",
   "metadata": {
    "ExecuteTime": {
     "end_time": "2022-11-15T05:38:25.882906Z",
     "start_time": "2022-11-15T05:38:25.865540Z"
    }
   },
   "outputs": [],
   "source": [
    "image_dir_test = []\n",
    "for i in range(0, len(image_test)):\n",
    "    image_dir_test.append(os.path.join(test_dir, image_test[i]))"
   ]
  },
  {
   "cell_type": "markdown",
   "id": "0d7aeae6",
   "metadata": {},
   "source": [
    "# Hacemos 4 imágenes más de los datos de entrenamiento"
   ]
  },
  {
   "cell_type": "code",
   "execution_count": null,
   "id": "03a495e7",
   "metadata": {
    "ExecuteTime": {
     "end_time": "2022-11-15T05:40:21.182428Z",
     "start_time": "2022-11-15T05:40:21.145553Z"
    }
   },
   "outputs": [],
   "source": [
    "for i in range(0, len(image_dir_train)):\n",
    "    image = load_img(image_dir_train[i])\n",
    "    new_image = image.resize((178, 218))\n",
    "    image = img_to_array(new_image)\n",
    "    image = np.expand_dims(new_image, axis=0)\n",
    "# Let's define ImageDataGenerator class\n",
    "    aug = ImageDataGenerator(rotation_range=20,\n",
    "                             rescale= 1./255.,\n",
    "                             width_shift_range=0.1,\n",
    "                             height_shift_range=0.1,\n",
    "                             shear_range=0.1,\n",
    "                             horizontal_flip=True,\n",
    "                             fill_mode=\"nearest\")\n",
    "\n",
    "# Let's apply ImageDataGenerator to input image\n",
    "    imageGen = aug.flow(image, batch_size=1, save_to_dir=train_dir,save_prefix=\"image\", save_format=\"jpg\")\n",
    "# Define number of augmented image which you want to download and iterate through loop\n",
    "    total_image = 4\n",
    "    i = 0\n",
    "    for e in imageGen:\n",
    "        if (i == total_image):\n",
    "            break\n",
    "        i = i +1"
   ]
  },
  {
   "cell_type": "markdown",
   "id": "02d819a7",
   "metadata": {},
   "source": [
    "# Hacemos 4 imágenes más de los datos de validación"
   ]
  },
  {
   "cell_type": "code",
   "execution_count": null,
   "id": "cf88749d",
   "metadata": {},
   "outputs": [],
   "source": [
    "for i in range(0, len(image_dir_validation)):\n",
    "    image = load_img(image_dir_validation[i])\n",
    "    new_image = image.resize((178, 218))\n",
    "    image = img_to_array(new_image)\n",
    "    image = np.expand_dims(new_image, axis=0)\n",
    "# Let's define ImageDataGenerator class\n",
    "    aug = ImageDataGenerator(rotation_range=20,\n",
    "                             rescale= 1./255.,\n",
    "                             width_shift_range=0.1,\n",
    "                             height_shift_range=0.1,\n",
    "                             shear_range=0.1,\n",
    "                             horizontal_flip=True,\n",
    "                             fill_mode=\"nearest\")\n",
    "\n",
    "# Let's apply ImageDataGenerator to input image\n",
    "    imageGen = aug.flow(image, batch_size=1, save_to_dir=validation_dir,save_prefix=\"image\", save_format=\"jpg\")\n",
    "# Define number of augmented image which you want to download and iterate through loop\n",
    "    total_image = 8\n",
    "    i = 0\n",
    "    for e in imageGen:\n",
    "        if (i == total_image):\n",
    "            break\n",
    "        i = i +1"
   ]
  },
  {
   "cell_type": "markdown",
   "id": "bbc82341",
   "metadata": {
    "ExecuteTime": {
     "end_time": "2022-11-13T18:43:24.955108Z",
     "start_time": "2022-11-13T18:43:24.940764Z"
    }
   },
   "source": [
    "# Hacemos 4 imágenes más de los datos de test"
   ]
  },
  {
   "cell_type": "code",
   "execution_count": null,
   "id": "849c66e2",
   "metadata": {},
   "outputs": [],
   "source": [
    "for i in range(0, len(image_dir_test)):\n",
    "    image = load_img(image_dir_test[i])\n",
    "    new_image = image.resize((178, 218))\n",
    "    image = img_to_array(new_image)\n",
    "    image = np.expand_dims(new_image, axis=0)\n",
    "# Let's define ImageDataGenerator class\n",
    "    aug = ImageDataGenerator(rotation_range=20,\n",
    "                             rescale= 1./255.,\n",
    "                             width_shift_range=0.1,\n",
    "                             height_shift_range=0.1,\n",
    "                             shear_range=0.1,\n",
    "                             horizontal_flip=True,\n",
    "                             fill_mode=\"nearest\")\n",
    "\n",
    "# Let's apply ImageDataGenerator to input image\n",
    "    imageGen = aug.flow(image, batch_size=1, save_to_dir=validation_dir,save_prefix=\"image\", save_format=\"jpg\")\n",
    "# Define number of augmented image which you want to download and iterate through loop\n",
    "    total_image = 8\n",
    "    i = 0\n",
    "    for e in imageGen:\n",
    "        if (i == total_image):\n",
    "            break\n",
    "        i = i +1"
   ]
  }
 ],
 "metadata": {
  "hide_input": false,
  "kernelspec": {
   "display_name": "Python 3 (ipykernel)",
   "language": "python",
   "name": "python3"
  },
  "language_info": {
   "codemirror_mode": {
    "name": "ipython",
    "version": 3
   },
   "file_extension": ".py",
   "mimetype": "text/x-python",
   "name": "python",
   "nbconvert_exporter": "python",
   "pygments_lexer": "ipython3",
   "version": "3.9.13"
  },
  "toc": {
   "base_numbering": 1,
   "nav_menu": {},
   "number_sections": true,
   "sideBar": true,
   "skip_h1_title": false,
   "title_cell": "Table of Contents",
   "title_sidebar": "Contents",
   "toc_cell": false,
   "toc_position": {},
   "toc_section_display": true,
   "toc_window_display": false
  },
  "varInspector": {
   "cols": {
    "lenName": 16,
    "lenType": 16,
    "lenVar": 40
   },
   "kernels_config": {
    "python": {
     "delete_cmd_postfix": "",
     "delete_cmd_prefix": "del ",
     "library": "var_list.py",
     "varRefreshCmd": "print(var_dic_list())"
    },
    "r": {
     "delete_cmd_postfix": ") ",
     "delete_cmd_prefix": "rm(",
     "library": "var_list.r",
     "varRefreshCmd": "cat(var_dic_list()) "
    }
   },
   "types_to_exclude": [
    "module",
    "function",
    "builtin_function_or_method",
    "instance",
    "_Feature"
   ],
   "window_display": false
  }
 },
 "nbformat": 4,
 "nbformat_minor": 5
}
