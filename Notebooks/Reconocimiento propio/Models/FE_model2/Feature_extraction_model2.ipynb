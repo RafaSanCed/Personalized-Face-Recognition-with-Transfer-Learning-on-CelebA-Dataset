{
 "cells": [
  {
   "cell_type": "markdown",
   "id": "3db0ec4d",
   "metadata": {},
   "source": [
    "# Importamos librerías"
   ]
  },
  {
   "cell_type": "code",
   "execution_count": 45,
   "id": "e0720279",
   "metadata": {
    "ExecuteTime": {
     "end_time": "2022-11-13T23:50:55.282406Z",
     "start_time": "2022-11-13T23:50:55.276378Z"
    }
   },
   "outputs": [],
   "source": [
    "import tensorflow as tf\n",
    "import os\n",
    "import matplotlib.pyplot as plt\n",
    "import pandas as pd\n",
    "import numpy as np"
   ]
  },
  {
   "cell_type": "markdown",
   "id": "0811cae5",
   "metadata": {
    "ExecuteTime": {
     "end_time": "2022-11-12T06:58:57.437923Z",
     "start_time": "2022-11-12T06:58:57.437923Z"
    }
   },
   "source": [
    "# Importamos el modelo entrenado anteriormente"
   ]
  },
  {
   "cell_type": "code",
   "execution_count": 46,
   "id": "108300c4",
   "metadata": {
    "ExecuteTime": {
     "end_time": "2022-11-13T23:50:57.011319Z",
     "start_time": "2022-11-13T23:50:56.885807Z"
    }
   },
   "outputs": [
    {
     "name": "stdout",
     "output_type": "stream",
     "text": [
      "Model: \"sequential_5\"\n",
      "_________________________________________________________________\n",
      " Layer (type)                Output Shape              Param #   \n",
      "=================================================================\n",
      " conv2d_30 (Conv2D)          (None, 176, 216, 32)      896       \n",
      "                                                                 \n",
      " max_pooling2d_9 (MaxPooling  (None, 88, 108, 32)      0         \n",
      " 2D)                                                             \n",
      "                                                                 \n",
      " conv2d_31 (Conv2D)          (None, 86, 106, 64)       18496     \n",
      "                                                                 \n",
      " max_pooling2d_10 (MaxPoolin  (None, 43, 53, 64)       0         \n",
      " g2D)                                                            \n",
      "                                                                 \n",
      " conv2d_32 (Conv2D)          (None, 41, 51, 32)        18464     \n",
      "                                                                 \n",
      " max_pooling2d_11 (MaxPoolin  (None, 20, 25, 32)       0         \n",
      " g2D)                                                            \n",
      "                                                                 \n",
      " dropout_13 (Dropout)        (None, 20, 25, 32)        0         \n",
      "                                                                 \n",
      " conv2d_33 (Conv2D)          (None, 18, 23, 32)        9248      \n",
      "                                                                 \n",
      " max_pooling2d_12 (MaxPoolin  (None, 9, 11, 32)        0         \n",
      " g2D)                                                            \n",
      "                                                                 \n",
      " conv2d_34 (Conv2D)          (None, 7, 9, 16)          4624      \n",
      "                                                                 \n",
      " max_pooling2d_13 (MaxPoolin  (None, 3, 4, 16)         0         \n",
      " g2D)                                                            \n",
      "                                                                 \n",
      " conv2d_35 (Conv2D)          (None, 1, 2, 8)           1160      \n",
      "                                                                 \n",
      " flatten_5 (Flatten)         (None, 16)                0         \n",
      "                                                                 \n",
      " dense_15 (Dense)            (None, 128)               2176      \n",
      "                                                                 \n",
      " dropout_14 (Dropout)        (None, 128)               0         \n",
      "                                                                 \n",
      " dense_16 (Dense)            (None, 64)                8256      \n",
      "                                                                 \n",
      " dense_17 (Dense)            (None, 32)                2080      \n",
      "                                                                 \n",
      "=================================================================\n",
      "Total params: 65,400\n",
      "Trainable params: 65,400\n",
      "Non-trainable params: 0\n",
      "_________________________________________________________________\n"
     ]
    }
   ],
   "source": [
    "from tensorflow.keras.models import load_model\n",
    "base_path = r'D:\\Documentos de trabajo\\Maestría\\Curso Maestría Introducción a Redes Neuronales\\Tarea 2\\Tarea 2. Reconocimiento facial\\Tareea2.-Curso-Redes-Neuronales.-Rafael-S-nchez-Cedillo\\Notebooks\\Segundo modelo'\n",
    "\n",
    "#base_path='../../../Segundo modelo/'\n",
    "model_name = 'path_to_my_model2.h5'\n",
    "path_model = os.path.join(base_path,model_name)\n",
    "pre_trained_model = load_model(path_model)\n",
    "pre_trained_model.summary()\n"
   ]
  },
  {
   "cell_type": "markdown",
   "id": "7f035e9b",
   "metadata": {},
   "source": [
    "# Eliminamos capas densas "
   ]
  },
  {
   "cell_type": "code",
   "execution_count": 47,
   "id": "be7e17d7",
   "metadata": {
    "ExecuteTime": {
     "end_time": "2022-11-13T23:50:57.850137Z",
     "start_time": "2022-11-13T23:50:57.827702Z"
    }
   },
   "outputs": [
    {
     "name": "stdout",
     "output_type": "stream",
     "text": [
      "Model: \"sequential_5\"\n",
      "_________________________________________________________________\n",
      " Layer (type)                Output Shape              Param #   \n",
      "=================================================================\n",
      " conv2d_30 (Conv2D)          (None, 176, 216, 32)      896       \n",
      "                                                                 \n",
      " max_pooling2d_9 (MaxPooling  (None, 88, 108, 32)      0         \n",
      " 2D)                                                             \n",
      "                                                                 \n",
      " conv2d_31 (Conv2D)          (None, 86, 106, 64)       18496     \n",
      "                                                                 \n",
      " max_pooling2d_10 (MaxPoolin  (None, 43, 53, 64)       0         \n",
      " g2D)                                                            \n",
      "                                                                 \n",
      " conv2d_32 (Conv2D)          (None, 41, 51, 32)        18464     \n",
      "                                                                 \n",
      " max_pooling2d_11 (MaxPoolin  (None, 20, 25, 32)       0         \n",
      " g2D)                                                            \n",
      "                                                                 \n",
      " dropout_13 (Dropout)        (None, 20, 25, 32)        0         \n",
      "                                                                 \n",
      " conv2d_33 (Conv2D)          (None, 18, 23, 32)        9248      \n",
      "                                                                 \n",
      " max_pooling2d_12 (MaxPoolin  (None, 9, 11, 32)        0         \n",
      " g2D)                                                            \n",
      "                                                                 \n",
      " conv2d_34 (Conv2D)          (None, 7, 9, 16)          4624      \n",
      "                                                                 \n",
      " max_pooling2d_13 (MaxPoolin  (None, 3, 4, 16)         0         \n",
      " g2D)                                                            \n",
      "                                                                 \n",
      " conv2d_35 (Conv2D)          (None, 1, 2, 8)           1160      \n",
      "                                                                 \n",
      " flatten_5 (Flatten)         (None, 16)                0         \n",
      "                                                                 \n",
      "=================================================================\n",
      "Total params: 52,888\n",
      "Trainable params: 52,888\n",
      "Non-trainable params: 0\n",
      "_________________________________________________________________\n"
     ]
    }
   ],
   "source": [
    "pre_trained_model.pop()\n",
    "pre_trained_model.pop()\n",
    "pre_trained_model.pop()\n",
    "pre_trained_model.pop()\n",
    "pre_trained_model.summary()"
   ]
  },
  {
   "cell_type": "markdown",
   "id": "34b29f1a",
   "metadata": {},
   "source": [
    "# Congelamos los pesos de las capas convolucionales"
   ]
  },
  {
   "cell_type": "code",
   "execution_count": 48,
   "id": "a2f1557e",
   "metadata": {
    "ExecuteTime": {
     "end_time": "2022-11-13T23:50:58.378260Z",
     "start_time": "2022-11-13T23:50:58.362979Z"
    }
   },
   "outputs": [
    {
     "name": "stdout",
     "output_type": "stream",
     "text": [
      "Model: \"sequential_5\"\n",
      "_________________________________________________________________\n",
      " Layer (type)                Output Shape              Param #   \n",
      "=================================================================\n",
      " conv2d_30 (Conv2D)          (None, 176, 216, 32)      896       \n",
      "                                                                 \n",
      " max_pooling2d_9 (MaxPooling  (None, 88, 108, 32)      0         \n",
      " 2D)                                                             \n",
      "                                                                 \n",
      " conv2d_31 (Conv2D)          (None, 86, 106, 64)       18496     \n",
      "                                                                 \n",
      " max_pooling2d_10 (MaxPoolin  (None, 43, 53, 64)       0         \n",
      " g2D)                                                            \n",
      "                                                                 \n",
      " conv2d_32 (Conv2D)          (None, 41, 51, 32)        18464     \n",
      "                                                                 \n",
      " max_pooling2d_11 (MaxPoolin  (None, 20, 25, 32)       0         \n",
      " g2D)                                                            \n",
      "                                                                 \n",
      " dropout_13 (Dropout)        (None, 20, 25, 32)        0         \n",
      "                                                                 \n",
      " conv2d_33 (Conv2D)          (None, 18, 23, 32)        9248      \n",
      "                                                                 \n",
      " max_pooling2d_12 (MaxPoolin  (None, 9, 11, 32)        0         \n",
      " g2D)                                                            \n",
      "                                                                 \n",
      " conv2d_34 (Conv2D)          (None, 7, 9, 16)          4624      \n",
      "                                                                 \n",
      " max_pooling2d_13 (MaxPoolin  (None, 3, 4, 16)         0         \n",
      " g2D)                                                            \n",
      "                                                                 \n",
      " conv2d_35 (Conv2D)          (None, 1, 2, 8)           1160      \n",
      "                                                                 \n",
      " flatten_5 (Flatten)         (None, 16)                0         \n",
      "                                                                 \n",
      "=================================================================\n",
      "Total params: 52,888\n",
      "Trainable params: 0\n",
      "Non-trainable params: 52,888\n",
      "_________________________________________________________________\n"
     ]
    }
   ],
   "source": [
    "for layer in pre_trained_model.layers:\n",
    "    layer.trainable = False\n",
    "pre_trained_model.summary()"
   ]
  },
  {
   "cell_type": "markdown",
   "id": "16d1a0af",
   "metadata": {},
   "source": [
    "# Creamos nuevo modelo"
   ]
  },
  {
   "cell_type": "code",
   "execution_count": 49,
   "id": "b298f1fb",
   "metadata": {
    "ExecuteTime": {
     "end_time": "2022-11-13T23:50:58.918479Z",
     "start_time": "2022-11-13T23:50:58.859706Z"
    }
   },
   "outputs": [
    {
     "name": "stdout",
     "output_type": "stream",
     "text": [
      "Model: \"sequential_1\"\n",
      "_________________________________________________________________\n",
      " Layer (type)                Output Shape              Param #   \n",
      "=================================================================\n",
      " sequential_5 (Sequential)   (None, 16)                52888     \n",
      "                                                                 \n",
      " flatten_1 (Flatten)         (None, 16)                0         \n",
      "                                                                 \n",
      " dense_4 (Dense)             (None, 256)               4352      \n",
      "                                                                 \n",
      " dense_5 (Dense)             (None, 256)               65792     \n",
      "                                                                 \n",
      " dense_6 (Dense)             (None, 128)               32896     \n",
      "                                                                 \n",
      " dense_7 (Dense)             (None, 1)                 129       \n",
      "                                                                 \n",
      "=================================================================\n",
      "Total params: 156,057\n",
      "Trainable params: 103,169\n",
      "Non-trainable params: 52,888\n",
      "_________________________________________________________________\n"
     ]
    }
   ],
   "source": [
    "from tensorflow.keras import Model\n",
    "from tensorflow.keras import Sequential\n",
    "from tensorflow.keras.layers import Conv2D, MaxPooling2D, Flatten, Dense\n",
    "\n",
    "modelFE = Sequential()\n",
    "modelFE.add(pre_trained_model)\n",
    "modelFE.add(Flatten())\n",
    "modelFE.add(Dense(256, activation='relu'))\n",
    "modelFE.add(Dense(256, activation='relu'))\n",
    "modelFE.add(Dense(128, activation='relu'))\n",
    "modelFE.add(Dense(1, activation='sigmoid'))\n",
    "modelFE.summary()"
   ]
  },
  {
   "cell_type": "markdown",
   "id": "2e35d767",
   "metadata": {},
   "source": [
    "# Creamos rutas de acceso a las bases de datos"
   ]
  },
  {
   "cell_type": "code",
   "execution_count": 50,
   "id": "56fc661d",
   "metadata": {
    "ExecuteTime": {
     "end_time": "2022-11-13T23:50:59.618030Z",
     "start_time": "2022-11-13T23:50:59.609934Z"
    }
   },
   "outputs": [],
   "source": [
    "base_dir = 'D:\\Documentos de trabajo\\Maestría\\Curso Maestría Introducción a Redes Neuronales\\Tarea 2\\Tarea 2. Reconocimiento facial\\Tareea2.-Curso-Redes-Neuronales.-Rafael-S-nchez-Cedillo\\Data\\Recognize_me'"
   ]
  },
  {
   "cell_type": "code",
   "execution_count": 51,
   "id": "4493ff57",
   "metadata": {
    "ExecuteTime": {
     "end_time": "2022-11-13T23:51:00.110986Z",
     "start_time": "2022-11-13T23:51:00.105088Z"
    }
   },
   "outputs": [],
   "source": [
    "train_dir = os.path.join(base_dir, 'Train/')\n",
    "validation_dir = os.path.join(base_dir, 'Val/')\n",
    "test_dir = os.path.join(base_dir, 'Test/')"
   ]
  },
  {
   "cell_type": "markdown",
   "id": "db213a4c",
   "metadata": {
    "ExecuteTime": {
     "end_time": "2022-11-12T17:33:57.929356Z",
     "start_time": "2022-11-12T17:33:57.913541Z"
    }
   },
   "source": [
    "# Procesamos las imágenes para introducirlas al modelo\n",
    "\n",
    "En esta sección se procesan las imágenes para ser introducidas al modelo. Solo debe de correr una de las dos celdas. La primera si se requiere aumentar los datos de forma artificial y la segunda si los la base de datos se considera lo suficientemente grande y no se requiere el aumento de las imágenes."
   ]
  },
  {
   "cell_type": "code",
   "execution_count": 52,
   "id": "ada574b4",
   "metadata": {
    "ExecuteTime": {
     "end_time": "2022-11-13T23:51:05.294998Z",
     "start_time": "2022-11-13T23:51:05.238388Z"
    }
   },
   "outputs": [
    {
     "name": "stdout",
     "output_type": "stream",
     "text": [
      "Found 498 images belonging to 2 classes.\n",
      "Found 60 images belonging to 2 classes.\n",
      "Found 60 images belonging to 2 classes.\n"
     ]
    }
   ],
   "source": [
    "from keras.preprocessing.image import ImageDataGenerator\n",
    "\n",
    "train_datagen = ImageDataGenerator(rotation_range=20,\n",
    "                                   rescale= 1./255.,\n",
    "                                   zoom_range=0.15,\n",
    "                                   width_shift_range=0.2,\n",
    "                                   height_shift_range=0.2,\n",
    "                                   shear_range=0.15,\n",
    "                                   horizontal_flip=True,\n",
    "                                   fill_mode=\"nearest\")\n",
    "validation_datagen  = ImageDataGenerator(rotation_range=20,\n",
    "                                        rescale= 1./255.,\n",
    "                                        zoom_range=0.15,\n",
    "                                        width_shift_range=0.2,\n",
    "                                        height_shift_range=0.2,\n",
    "                                        shear_range=0.15,\n",
    "                                        horizontal_flip=True,\n",
    "                                        fill_mode=\"nearest\")\n",
    "test_datagen  = ImageDataGenerator(rotation_range=20,\n",
    "                                   rescale= 1./255.,\n",
    "                                   zoom_range=0.15,\n",
    "                                   width_shift_range=0.2,\n",
    "                                   height_shift_range=0.2,\n",
    "                                   shear_range=0.15,\n",
    "                                   horizontal_flip=True,\n",
    "                                   fill_mode=\"nearest\") \n",
    "train_generator = train_datagen.flow_from_directory(train_dir,\n",
    "                                                    batch_size=5,\n",
    "                                                    class_mode='binary',\n",
    "                                                    target_size=(178, 218))     \n",
    "\n",
    "validation_generator =  validation_datagen.flow_from_directory(validation_dir,\n",
    "                                                         batch_size=5,\n",
    "                                                         class_mode  = 'binary',\n",
    "                                                         target_size = (178, 218))\n",
    "\n",
    "\n",
    "test_generator =  test_datagen.flow_from_directory(validation_dir,\n",
    "                                                         batch_size=5,\n",
    "                                                         class_mode  = 'binary',\n",
    "                                                         target_size = (178, 218))"
   ]
  },
  {
   "cell_type": "code",
   "execution_count": 27,
   "id": "fdbb9fe9",
   "metadata": {
    "ExecuteTime": {
     "end_time": "2022-11-13T18:55:43.888903Z",
     "start_time": "2022-11-13T18:55:43.770258Z"
    }
   },
   "outputs": [
    {
     "name": "stdout",
     "output_type": "stream",
     "text": [
      "Found 498 files belonging to 2 classes.\n",
      "Found 60 files belonging to 2 classes.\n",
      "Found 66 images belonging to 2 classes.\n"
     ]
    }
   ],
   "source": [
    "train_generator = tf.keras.preprocessing.image_dataset_from_directory(\n",
    "    train_dir,\n",
    "    labels=\"inferred\",\n",
    "    label_mode=\"binary\",\n",
    "    class_names=None,\n",
    "    color_mode=\"rgb\",\n",
    "    batch_size=32,\n",
    "    image_size=(178, 218),\n",
    "    shuffle=True,\n",
    "    seed=None,\n",
    "    validation_split=None,\n",
    "    subset=None,\n",
    "    interpolation=\"bilinear\",\n",
    "    follow_links=False,\n",
    "    crop_to_aspect_ratio=True)\n",
    "\n",
    "validation_generator =  tf.keras.preprocessing.image_dataset_from_directory(\n",
    "    validation_dir,\n",
    "    labels=\"inferred\",\n",
    "    label_mode=\"binary\",\n",
    "    class_names=None,\n",
    "    color_mode=\"rgb\",\n",
    "    batch_size=32,\n",
    "    image_size=(178, 218),\n",
    "    shuffle=True,\n",
    "    seed=None,\n",
    "    validation_split=None,\n",
    "    subset=None,\n",
    "    interpolation=\"bilinear\",\n",
    "    follow_links=False,\n",
    "    crop_to_aspect_ratio=True)\n",
    "\n",
    "\n",
    "test_generator =  test_datagen.flow_from_directory(test_dir,\n",
    "                                                         batch_size=5,\n",
    "                                                         class_mode  = 'binary',\n",
    "                                                         target_size = (178, 218))"
   ]
  },
  {
   "cell_type": "markdown",
   "id": "1523804b",
   "metadata": {},
   "source": [
    "# Prombamos el modelo"
   ]
  },
  {
   "cell_type": "code",
   "execution_count": 53,
   "id": "9d08a63f",
   "metadata": {
    "ExecuteTime": {
     "end_time": "2022-11-13T23:51:07.342291Z",
     "start_time": "2022-11-13T23:51:07.325345Z"
    }
   },
   "outputs": [],
   "source": [
    "def scheduler(epoch, lr):\n",
    "  if epoch < 10:\n",
    "    return lr\n",
    "  else:\n",
    "    return 1e-3 * 0.9 ** epoch"
   ]
  },
  {
   "cell_type": "code",
   "execution_count": 54,
   "id": "725a532a",
   "metadata": {
    "ExecuteTime": {
     "end_time": "2022-11-13T23:56:59.965122Z",
     "start_time": "2022-11-13T23:51:07.784432Z"
    }
   },
   "outputs": [
    {
     "name": "stdout",
     "output_type": "stream",
     "text": [
      "Epoch 1/1000\n",
      "100/100 [==============================] - 3s 27ms/step - loss: 0.4098 - acc: 0.8333 - val_loss: 0.3784 - val_acc: 0.8333 - lr: 1.0000e-04\n",
      "Epoch 2/1000\n",
      "100/100 [==============================] - 3s 25ms/step - loss: 0.3607 - acc: 0.8333 - val_loss: 0.3426 - val_acc: 0.8333 - lr: 1.0000e-04\n",
      "Epoch 3/1000\n",
      "100/100 [==============================] - 3s 25ms/step - loss: 0.3412 - acc: 0.8394 - val_loss: 0.3601 - val_acc: 0.8500 - lr: 1.0000e-04\n",
      "Epoch 4/1000\n",
      "100/100 [==============================] - 3s 25ms/step - loss: 0.3282 - acc: 0.8635 - val_loss: 0.3363 - val_acc: 0.8333 - lr: 1.0000e-04\n",
      "Epoch 5/1000\n",
      "100/100 [==============================] - 3s 25ms/step - loss: 0.3242 - acc: 0.8755 - val_loss: 0.3472 - val_acc: 0.8500 - lr: 1.0000e-04\n",
      "Epoch 6/1000\n",
      "100/100 [==============================] - 3s 25ms/step - loss: 0.3195 - acc: 0.8655 - val_loss: 0.3609 - val_acc: 0.8500 - lr: 1.0000e-04\n",
      "Epoch 7/1000\n",
      "100/100 [==============================] - 3s 26ms/step - loss: 0.3251 - acc: 0.8695 - val_loss: 0.3018 - val_acc: 0.9000 - lr: 1.0000e-04\n",
      "Epoch 8/1000\n",
      "100/100 [==============================] - 3s 26ms/step - loss: 0.3195 - acc: 0.8795 - val_loss: 0.3426 - val_acc: 0.8667 - lr: 1.0000e-04\n",
      "Epoch 9/1000\n",
      "100/100 [==============================] - 3s 25ms/step - loss: 0.2843 - acc: 0.8835 - val_loss: 0.3338 - val_acc: 0.8333 - lr: 1.0000e-04\n",
      "Epoch 10/1000\n",
      "100/100 [==============================] - 3s 26ms/step - loss: 0.2877 - acc: 0.8976 - val_loss: 0.3130 - val_acc: 0.8500 - lr: 1.0000e-04\n",
      "Epoch 11/1000\n",
      "100/100 [==============================] - 3s 25ms/step - loss: 0.3269 - acc: 0.8735 - val_loss: 0.3085 - val_acc: 0.8833 - lr: 3.4868e-04\n",
      "Epoch 12/1000\n",
      "100/100 [==============================] - 3s 26ms/step - loss: 0.3248 - acc: 0.8655 - val_loss: 0.3271 - val_acc: 0.8333 - lr: 3.1381e-04\n",
      "Epoch 13/1000\n",
      "100/100 [==============================] - 3s 25ms/step - loss: 0.2972 - acc: 0.8675 - val_loss: 0.2690 - val_acc: 0.8667 - lr: 2.8243e-04\n",
      "Epoch 14/1000\n",
      "100/100 [==============================] - 3s 25ms/step - loss: 0.3132 - acc: 0.8695 - val_loss: 0.2509 - val_acc: 0.9167 - lr: 2.5419e-04\n",
      "Epoch 15/1000\n",
      "100/100 [==============================] - 3s 26ms/step - loss: 0.3042 - acc: 0.8795 - val_loss: 0.3413 - val_acc: 0.8667 - lr: 2.2877e-04\n",
      "Epoch 16/1000\n",
      "100/100 [==============================] - 3s 26ms/step - loss: 0.2877 - acc: 0.8855 - val_loss: 0.3831 - val_acc: 0.8500 - lr: 2.0589e-04\n",
      "Epoch 17/1000\n",
      "100/100 [==============================] - 3s 26ms/step - loss: 0.3021 - acc: 0.8976 - val_loss: 0.1810 - val_acc: 0.9500 - lr: 1.8530e-04\n",
      "Epoch 18/1000\n",
      "100/100 [==============================] - 3s 26ms/step - loss: 0.2764 - acc: 0.8916 - val_loss: 0.2317 - val_acc: 0.8833 - lr: 1.6677e-04\n",
      "Epoch 19/1000\n",
      "100/100 [==============================] - 3s 25ms/step - loss: 0.2876 - acc: 0.8896 - val_loss: 0.2656 - val_acc: 0.8667 - lr: 1.5009e-04\n",
      "Epoch 20/1000\n",
      "100/100 [==============================] - 3s 26ms/step - loss: 0.2985 - acc: 0.8735 - val_loss: 0.2406 - val_acc: 0.8833 - lr: 1.3509e-04\n",
      "Epoch 21/1000\n",
      "100/100 [==============================] - 3s 25ms/step - loss: 0.2525 - acc: 0.9036 - val_loss: 0.2505 - val_acc: 0.9167 - lr: 1.2158e-04\n",
      "Epoch 22/1000\n",
      "100/100 [==============================] - 3s 25ms/step - loss: 0.2802 - acc: 0.8815 - val_loss: 0.2594 - val_acc: 0.9000 - lr: 1.0942e-04\n",
      "Epoch 23/1000\n",
      "100/100 [==============================] - 3s 26ms/step - loss: 0.2653 - acc: 0.8976 - val_loss: 0.2760 - val_acc: 0.9167 - lr: 9.8477e-05\n",
      "Epoch 24/1000\n",
      "100/100 [==============================] - 3s 25ms/step - loss: 0.2606 - acc: 0.9036 - val_loss: 0.2990 - val_acc: 0.9000 - lr: 8.8629e-05\n",
      "Epoch 25/1000\n",
      "100/100 [==============================] - 3s 25ms/step - loss: 0.3042 - acc: 0.8855 - val_loss: 0.2163 - val_acc: 0.9500 - lr: 7.9766e-05\n",
      "Epoch 26/1000\n",
      "100/100 [==============================] - 3s 25ms/step - loss: 0.2583 - acc: 0.8996 - val_loss: 0.2038 - val_acc: 0.9000 - lr: 7.1790e-05\n",
      "Epoch 27/1000\n",
      "100/100 [==============================] - 3s 26ms/step - loss: 0.2724 - acc: 0.8976 - val_loss: 0.2646 - val_acc: 0.9000 - lr: 6.4611e-05\n",
      "Epoch 28/1000\n",
      "100/100 [==============================] - 3s 28ms/step - loss: 0.2543 - acc: 0.9056 - val_loss: 0.2008 - val_acc: 0.9333 - lr: 5.8150e-05\n",
      "Epoch 29/1000\n",
      "100/100 [==============================] - 3s 27ms/step - loss: 0.2652 - acc: 0.9036 - val_loss: 0.3402 - val_acc: 0.8500 - lr: 5.2335e-05\n",
      "Epoch 30/1000\n",
      "100/100 [==============================] - 3s 26ms/step - loss: 0.2275 - acc: 0.9237 - val_loss: 0.1781 - val_acc: 0.9167 - lr: 4.7101e-05\n",
      "Epoch 31/1000\n",
      "100/100 [==============================] - 2s 25ms/step - loss: 0.3013 - acc: 0.8896 - val_loss: 0.2764 - val_acc: 0.9000 - lr: 4.2391e-05\n",
      "Epoch 32/1000\n",
      "100/100 [==============================] - 3s 26ms/step - loss: 0.2467 - acc: 0.8996 - val_loss: 0.2446 - val_acc: 0.9000 - lr: 3.8152e-05\n",
      "Epoch 33/1000\n",
      "100/100 [==============================] - 3s 27ms/step - loss: 0.2369 - acc: 0.9116 - val_loss: 0.2313 - val_acc: 0.8833 - lr: 3.4337e-05\n",
      "Epoch 34/1000\n",
      "100/100 [==============================] - 3s 26ms/step - loss: 0.2747 - acc: 0.8996 - val_loss: 0.3620 - val_acc: 0.8500 - lr: 3.0903e-05\n",
      "Epoch 35/1000\n",
      "100/100 [==============================] - 3s 26ms/step - loss: 0.2617 - acc: 0.8876 - val_loss: 0.2282 - val_acc: 0.9167 - lr: 2.7813e-05\n",
      "Epoch 36/1000\n",
      "100/100 [==============================] - 3s 26ms/step - loss: 0.2456 - acc: 0.9157 - val_loss: 0.3263 - val_acc: 0.8833 - lr: 2.5032e-05\n",
      "Epoch 37/1000\n",
      "100/100 [==============================] - 3s 26ms/step - loss: 0.2653 - acc: 0.9016 - val_loss: 0.2647 - val_acc: 0.9167 - lr: 2.2528e-05\n",
      "Epoch 38/1000\n",
      "100/100 [==============================] - 3s 26ms/step - loss: 0.2576 - acc: 0.9016 - val_loss: 0.2237 - val_acc: 0.9000 - lr: 2.0276e-05\n",
      "Epoch 39/1000\n",
      "100/100 [==============================] - 3s 26ms/step - loss: 0.2656 - acc: 0.8976 - val_loss: 0.3197 - val_acc: 0.8833 - lr: 1.8248e-05\n",
      "Epoch 40/1000\n",
      "100/100 [==============================] - 3s 28ms/step - loss: 0.2310 - acc: 0.9157 - val_loss: 0.2655 - val_acc: 0.9000 - lr: 1.6423e-05\n",
      "Epoch 41/1000\n",
      "100/100 [==============================] - 3s 26ms/step - loss: 0.2326 - acc: 0.9096 - val_loss: 0.2304 - val_acc: 0.8667 - lr: 1.4781e-05\n",
      "Epoch 42/1000\n",
      "100/100 [==============================] - 3s 26ms/step - loss: 0.2654 - acc: 0.8996 - val_loss: 0.2262 - val_acc: 0.9000 - lr: 1.3303e-05\n",
      "Epoch 43/1000\n",
      "100/100 [==============================] - 3s 25ms/step - loss: 0.2528 - acc: 0.9076 - val_loss: 0.3077 - val_acc: 0.8833 - lr: 1.1973e-05\n",
      "Epoch 44/1000\n",
      "100/100 [==============================] - 3s 26ms/step - loss: 0.2687 - acc: 0.9016 - val_loss: 0.2551 - val_acc: 0.9000 - lr: 1.0775e-05\n",
      "Epoch 45/1000\n",
      "100/100 [==============================] - 3s 26ms/step - loss: 0.2782 - acc: 0.8876 - val_loss: 0.2922 - val_acc: 0.8667 - lr: 9.6977e-06\n",
      "Epoch 46/1000\n",
      "100/100 [==============================] - 3s 25ms/step - loss: 0.2591 - acc: 0.9036 - val_loss: 0.1934 - val_acc: 0.9167 - lr: 8.7280e-06\n",
      "Epoch 47/1000\n",
      "100/100 [==============================] - 3s 25ms/step - loss: 0.2548 - acc: 0.9116 - val_loss: 0.2872 - val_acc: 0.8667 - lr: 7.8552e-06\n",
      "Epoch 48/1000\n",
      "100/100 [==============================] - 3s 25ms/step - loss: 0.2494 - acc: 0.9036 - val_loss: 0.2551 - val_acc: 0.8833 - lr: 7.0697e-06\n",
      "Epoch 49/1000\n",
      "100/100 [==============================] - 3s 27ms/step - loss: 0.2091 - acc: 0.9317 - val_loss: 0.2164 - val_acc: 0.9333 - lr: 6.3627e-06\n",
      "Epoch 50/1000\n",
      "100/100 [==============================] - 3s 28ms/step - loss: 0.2553 - acc: 0.8976 - val_loss: 0.2443 - val_acc: 0.8833 - lr: 5.7264e-06\n",
      "Epoch 51/1000\n",
      "100/100 [==============================] - 3s 25ms/step - loss: 0.2302 - acc: 0.9076 - val_loss: 0.2207 - val_acc: 0.9000 - lr: 5.1538e-06\n",
      "Epoch 52/1000\n",
      "100/100 [==============================] - 3s 26ms/step - loss: 0.2736 - acc: 0.8835 - val_loss: 0.1967 - val_acc: 0.9333 - lr: 4.6384e-06\n",
      "Epoch 53/1000\n",
      "100/100 [==============================] - 3s 25ms/step - loss: 0.2602 - acc: 0.9177 - val_loss: 0.2535 - val_acc: 0.9333 - lr: 4.1746e-06\n",
      "Epoch 54/1000\n"
     ]
    },
    {
     "name": "stdout",
     "output_type": "stream",
     "text": [
      "100/100 [==============================] - 3s 26ms/step - loss: 0.2414 - acc: 0.9177 - val_loss: 0.1677 - val_acc: 0.9333 - lr: 3.7571e-06\n",
      "Epoch 55/1000\n",
      "100/100 [==============================] - 3s 26ms/step - loss: 0.2439 - acc: 0.9116 - val_loss: 0.2020 - val_acc: 0.9333 - lr: 3.3814e-06\n",
      "Epoch 56/1000\n",
      "100/100 [==============================] - 3s 25ms/step - loss: 0.2669 - acc: 0.8876 - val_loss: 0.2326 - val_acc: 0.9000 - lr: 3.0433e-06\n",
      "Epoch 57/1000\n",
      "100/100 [==============================] - 3s 26ms/step - loss: 0.2434 - acc: 0.9036 - val_loss: 0.2362 - val_acc: 0.9000 - lr: 2.7389e-06\n",
      "Epoch 58/1000\n",
      "100/100 [==============================] - 3s 25ms/step - loss: 0.2790 - acc: 0.8876 - val_loss: 0.1817 - val_acc: 0.9333 - lr: 2.4650e-06\n",
      "Epoch 59/1000\n",
      "100/100 [==============================] - 3s 25ms/step - loss: 0.2589 - acc: 0.8976 - val_loss: 0.3168 - val_acc: 0.8667 - lr: 2.2185e-06\n",
      "Epoch 60/1000\n",
      "100/100 [==============================] - 3s 25ms/step - loss: 0.2306 - acc: 0.9237 - val_loss: 0.2777 - val_acc: 0.9167 - lr: 1.9967e-06\n",
      "Epoch 61/1000\n",
      "100/100 [==============================] - 3s 25ms/step - loss: 0.2555 - acc: 0.8835 - val_loss: 0.2083 - val_acc: 0.9667 - lr: 1.7970e-06\n",
      "Epoch 62/1000\n",
      "100/100 [==============================] - 3s 25ms/step - loss: 0.2252 - acc: 0.9157 - val_loss: 0.2289 - val_acc: 0.9000 - lr: 1.6173e-06\n",
      "Epoch 63/1000\n",
      "100/100 [==============================] - 2s 25ms/step - loss: 0.2815 - acc: 0.8876 - val_loss: 0.2497 - val_acc: 0.9000 - lr: 1.4556e-06\n",
      "Epoch 64/1000\n",
      "100/100 [==============================] - 3s 25ms/step - loss: 0.2373 - acc: 0.9036 - val_loss: 0.2699 - val_acc: 0.9000 - lr: 1.3100e-06\n",
      "Epoch 65/1000\n",
      "100/100 [==============================] - 2s 25ms/step - loss: 0.2215 - acc: 0.9016 - val_loss: 0.3453 - val_acc: 0.8667 - lr: 1.1790e-06\n",
      "Epoch 66/1000\n",
      "100/100 [==============================] - 2s 25ms/step - loss: 0.2295 - acc: 0.9177 - val_loss: 0.2986 - val_acc: 0.8667 - lr: 1.0611e-06\n",
      "Epoch 67/1000\n",
      "100/100 [==============================] - 2s 25ms/step - loss: 0.2421 - acc: 0.9036 - val_loss: 0.2608 - val_acc: 0.9167 - lr: 9.5500e-07\n",
      "Epoch 68/1000\n",
      "100/100 [==============================] - 3s 25ms/step - loss: 0.2653 - acc: 0.8876 - val_loss: 0.2868 - val_acc: 0.8833 - lr: 8.5950e-07\n",
      "Epoch 69/1000\n",
      "100/100 [==============================] - 2s 25ms/step - loss: 0.2436 - acc: 0.9016 - val_loss: 0.2122 - val_acc: 0.9167 - lr: 7.7355e-07\n",
      "Epoch 70/1000\n",
      "100/100 [==============================] - 3s 25ms/step - loss: 0.2837 - acc: 0.8695 - val_loss: 0.2625 - val_acc: 0.9167 - lr: 6.9620e-07\n",
      "Epoch 71/1000\n",
      "100/100 [==============================] - 2s 25ms/step - loss: 0.2555 - acc: 0.8956 - val_loss: 0.2046 - val_acc: 0.9000 - lr: 6.2658e-07\n",
      "Epoch 72/1000\n",
      "100/100 [==============================] - 3s 26ms/step - loss: 0.2366 - acc: 0.9096 - val_loss: 0.2452 - val_acc: 0.9500 - lr: 5.6392e-07\n",
      "Epoch 73/1000\n",
      "100/100 [==============================] - 3s 25ms/step - loss: 0.2693 - acc: 0.8996 - val_loss: 0.3190 - val_acc: 0.8667 - lr: 5.0753e-07\n",
      "Epoch 74/1000\n",
      "100/100 [==============================] - 3s 25ms/step - loss: 0.2463 - acc: 0.9036 - val_loss: 0.2271 - val_acc: 0.9167 - lr: 4.5678e-07\n",
      "Epoch 75/1000\n",
      "100/100 [==============================] - 2s 25ms/step - loss: 0.2539 - acc: 0.8936 - val_loss: 0.3097 - val_acc: 0.8667 - lr: 4.1110e-07\n",
      "Epoch 76/1000\n",
      "100/100 [==============================] - 3s 25ms/step - loss: 0.2635 - acc: 0.8956 - val_loss: 0.2378 - val_acc: 0.9000 - lr: 3.6999e-07\n",
      "Epoch 77/1000\n",
      "100/100 [==============================] - 2s 25ms/step - loss: 0.2489 - acc: 0.9016 - val_loss: 0.2789 - val_acc: 0.8833 - lr: 3.3299e-07\n",
      "Epoch 78/1000\n",
      "100/100 [==============================] - 3s 25ms/step - loss: 0.2840 - acc: 0.8835 - val_loss: 0.1957 - val_acc: 0.9167 - lr: 2.9969e-07\n",
      "Epoch 79/1000\n",
      "100/100 [==============================] - 3s 25ms/step - loss: 0.2569 - acc: 0.9016 - val_loss: 0.2296 - val_acc: 0.9167 - lr: 2.6972e-07\n",
      "Epoch 80/1000\n",
      "100/100 [==============================] - 3s 25ms/step - loss: 0.2497 - acc: 0.9036 - val_loss: 0.2718 - val_acc: 0.9000 - lr: 2.4275e-07\n",
      "Epoch 81/1000\n",
      "100/100 [==============================] - 3s 25ms/step - loss: 0.2559 - acc: 0.9036 - val_loss: 0.1983 - val_acc: 0.9167 - lr: 2.1847e-07\n",
      "Epoch 82/1000\n",
      "100/100 [==============================] - 2s 25ms/step - loss: 0.2808 - acc: 0.8775 - val_loss: 0.2733 - val_acc: 0.9000 - lr: 1.9663e-07\n",
      "Epoch 83/1000\n",
      "100/100 [==============================] - 3s 25ms/step - loss: 0.2348 - acc: 0.9157 - val_loss: 0.2720 - val_acc: 0.8667 - lr: 1.7696e-07\n",
      "Epoch 84/1000\n",
      "100/100 [==============================] - 3s 25ms/step - loss: 0.2577 - acc: 0.9076 - val_loss: 0.2261 - val_acc: 0.9000 - lr: 1.5927e-07\n",
      "Epoch 85/1000\n",
      "100/100 [==============================] - 2s 25ms/step - loss: 0.2457 - acc: 0.9137 - val_loss: 0.2169 - val_acc: 0.9000 - lr: 1.4334e-07\n",
      "Epoch 86/1000\n",
      "100/100 [==============================] - 3s 25ms/step - loss: 0.2789 - acc: 0.8976 - val_loss: 0.3515 - val_acc: 0.8500 - lr: 1.2901e-07\n",
      "Epoch 87/1000\n",
      "100/100 [==============================] - 3s 25ms/step - loss: 0.2766 - acc: 0.8855 - val_loss: 0.1773 - val_acc: 0.9667 - lr: 1.1611e-07\n",
      "Epoch 88/1000\n",
      "100/100 [==============================] - 3s 25ms/step - loss: 0.2644 - acc: 0.8936 - val_loss: 0.1325 - val_acc: 0.9667 - lr: 1.0450e-07\n",
      "Epoch 89/1000\n",
      "100/100 [==============================] - 2s 25ms/step - loss: 0.2565 - acc: 0.8976 - val_loss: 0.2577 - val_acc: 0.9167 - lr: 9.4046e-08\n",
      "Epoch 90/1000\n",
      "100/100 [==============================] - 2s 25ms/step - loss: 0.2184 - acc: 0.9177 - val_loss: 0.1970 - val_acc: 0.9000 - lr: 8.4641e-08\n",
      "Epoch 91/1000\n",
      "100/100 [==============================] - 2s 24ms/step - loss: 0.2743 - acc: 0.8976 - val_loss: 0.2738 - val_acc: 0.9167 - lr: 7.6177e-08\n",
      "Epoch 92/1000\n",
      "100/100 [==============================] - 2s 25ms/step - loss: 0.2515 - acc: 0.9016 - val_loss: 0.3743 - val_acc: 0.8333 - lr: 6.8560e-08\n",
      "Epoch 93/1000\n",
      "100/100 [==============================] - 2s 24ms/step - loss: 0.2522 - acc: 0.9076 - val_loss: 0.2004 - val_acc: 0.9167 - lr: 6.1704e-08\n",
      "Epoch 94/1000\n",
      "100/100 [==============================] - 2s 25ms/step - loss: 0.2743 - acc: 0.8855 - val_loss: 0.2584 - val_acc: 0.9167 - lr: 5.5533e-08\n",
      "Epoch 95/1000\n",
      "100/100 [==============================] - 2s 24ms/step - loss: 0.2861 - acc: 0.8855 - val_loss: 0.2266 - val_acc: 0.9000 - lr: 4.9980e-08\n",
      "Epoch 96/1000\n",
      "100/100 [==============================] - 2s 24ms/step - loss: 0.2213 - acc: 0.9157 - val_loss: 0.2897 - val_acc: 0.8833 - lr: 4.4982e-08\n",
      "Epoch 97/1000\n",
      "100/100 [==============================] - 2s 25ms/step - loss: 0.2544 - acc: 0.9016 - val_loss: 0.2243 - val_acc: 0.8833 - lr: 4.0484e-08\n",
      "Epoch 98/1000\n",
      "100/100 [==============================] - 2s 25ms/step - loss: 0.2514 - acc: 0.8996 - val_loss: 0.2400 - val_acc: 0.9000 - lr: 3.6435e-08\n",
      "Epoch 99/1000\n",
      "100/100 [==============================] - 3s 25ms/step - loss: 0.2653 - acc: 0.8896 - val_loss: 0.2852 - val_acc: 0.9167 - lr: 3.2792e-08\n",
      "Epoch 100/1000\n",
      "100/100 [==============================] - 3s 25ms/step - loss: 0.2724 - acc: 0.9036 - val_loss: 0.2977 - val_acc: 0.8500 - lr: 2.9513e-08\n",
      "Epoch 101/1000\n",
      "100/100 [==============================] - 3s 25ms/step - loss: 0.2388 - acc: 0.9096 - val_loss: 0.2431 - val_acc: 0.8833 - lr: 2.6561e-08\n",
      "Epoch 102/1000\n",
      "100/100 [==============================] - 3s 25ms/step - loss: 0.2523 - acc: 0.9076 - val_loss: 0.2423 - val_acc: 0.9000 - lr: 2.3905e-08\n",
      "Epoch 103/1000\n",
      "100/100 [==============================] - 3s 25ms/step - loss: 0.2553 - acc: 0.9036 - val_loss: 0.2942 - val_acc: 0.9000 - lr: 2.1515e-08\n",
      "Epoch 104/1000\n",
      "100/100 [==============================] - 3s 25ms/step - loss: 0.2673 - acc: 0.9036 - val_loss: 0.2601 - val_acc: 0.8833 - lr: 1.9363e-08\n",
      "Epoch 105/1000\n",
      "100/100 [==============================] - 3s 25ms/step - loss: 0.2497 - acc: 0.9036 - val_loss: 0.2833 - val_acc: 0.9333 - lr: 1.7427e-08\n",
      "Epoch 106/1000\n",
      "100/100 [==============================] - 3s 25ms/step - loss: 0.2452 - acc: 0.9076 - val_loss: 0.2856 - val_acc: 0.8833 - lr: 1.5684e-08\n",
      "Epoch 107/1000\n"
     ]
    },
    {
     "name": "stdout",
     "output_type": "stream",
     "text": [
      "100/100 [==============================] - 3s 25ms/step - loss: 0.2665 - acc: 0.9076 - val_loss: 0.1841 - val_acc: 0.9500 - lr: 1.4116e-08\n",
      "Epoch 108/1000\n",
      "100/100 [==============================] - 3s 26ms/step - loss: 0.2863 - acc: 0.8896 - val_loss: 0.2149 - val_acc: 0.9000 - lr: 1.2704e-08\n",
      "Epoch 109/1000\n",
      "100/100 [==============================] - 3s 25ms/step - loss: 0.2436 - acc: 0.9056 - val_loss: 0.2566 - val_acc: 0.9333 - lr: 1.1434e-08\n",
      "Epoch 110/1000\n",
      "100/100 [==============================] - 3s 26ms/step - loss: 0.2523 - acc: 0.8956 - val_loss: 0.2530 - val_acc: 0.8667 - lr: 1.0290e-08\n",
      "Epoch 111/1000\n",
      "100/100 [==============================] - 2s 25ms/step - loss: 0.2445 - acc: 0.9076 - val_loss: 0.2761 - val_acc: 0.9167 - lr: 9.2614e-09\n",
      "Epoch 112/1000\n",
      "100/100 [==============================] - 3s 25ms/step - loss: 0.2460 - acc: 0.9016 - val_loss: 0.3004 - val_acc: 0.9000 - lr: 8.3352e-09\n",
      "Epoch 113/1000\n",
      "100/100 [==============================] - 2s 24ms/step - loss: 0.2193 - acc: 0.9257 - val_loss: 0.1667 - val_acc: 0.9167 - lr: 7.5017e-09\n",
      "Epoch 114/1000\n",
      "100/100 [==============================] - 2s 25ms/step - loss: 0.2606 - acc: 0.9056 - val_loss: 0.2410 - val_acc: 0.8667 - lr: 6.7516e-09\n",
      "Epoch 115/1000\n",
      "100/100 [==============================] - 3s 25ms/step - loss: 0.2568 - acc: 0.9056 - val_loss: 0.2157 - val_acc: 0.9167 - lr: 6.0764e-09\n",
      "Epoch 116/1000\n",
      "100/100 [==============================] - 3s 25ms/step - loss: 0.2467 - acc: 0.9177 - val_loss: 0.1938 - val_acc: 0.9500 - lr: 5.4688e-09\n",
      "Epoch 117/1000\n",
      "100/100 [==============================] - 3s 25ms/step - loss: 0.2419 - acc: 0.9096 - val_loss: 0.2670 - val_acc: 0.9000 - lr: 4.9219e-09\n",
      "Epoch 118/1000\n",
      "100/100 [==============================] - 3s 26ms/step - loss: 0.2437 - acc: 0.9096 - val_loss: 0.3047 - val_acc: 0.9000 - lr: 4.4297e-09\n",
      "Epoch 119/1000\n",
      "100/100 [==============================] - 3s 26ms/step - loss: 0.2216 - acc: 0.9217 - val_loss: 0.2981 - val_acc: 0.9167 - lr: 3.9867e-09\n",
      "Epoch 120/1000\n",
      "100/100 [==============================] - 2s 25ms/step - loss: 0.2569 - acc: 0.8976 - val_loss: 0.3487 - val_acc: 0.8667 - lr: 3.5881e-09\n",
      "Epoch 121/1000\n",
      "100/100 [==============================] - 2s 25ms/step - loss: 0.2534 - acc: 0.9096 - val_loss: 0.2126 - val_acc: 0.8833 - lr: 3.2292e-09\n",
      "Epoch 122/1000\n",
      "100/100 [==============================] - 3s 25ms/step - loss: 0.2641 - acc: 0.9036 - val_loss: 0.2687 - val_acc: 0.9167 - lr: 2.9063e-09\n",
      "Epoch 123/1000\n",
      "100/100 [==============================] - 2s 25ms/step - loss: 0.2225 - acc: 0.9036 - val_loss: 0.2779 - val_acc: 0.8500 - lr: 2.6157e-09\n",
      "Epoch 124/1000\n",
      "100/100 [==============================] - 3s 25ms/step - loss: 0.2793 - acc: 0.8815 - val_loss: 0.2900 - val_acc: 0.9000 - lr: 2.3541e-09\n",
      "Epoch 125/1000\n",
      "100/100 [==============================] - 3s 25ms/step - loss: 0.2254 - acc: 0.9217 - val_loss: 0.1521 - val_acc: 0.9667 - lr: 2.1187e-09\n",
      "Epoch 126/1000\n",
      "100/100 [==============================] - 2s 24ms/step - loss: 0.2761 - acc: 0.8855 - val_loss: 0.2740 - val_acc: 0.9167 - lr: 1.9068e-09\n",
      "Epoch 127/1000\n",
      "100/100 [==============================] - 2s 25ms/step - loss: 0.2476 - acc: 0.8956 - val_loss: 0.2496 - val_acc: 0.9000 - lr: 1.7162e-09\n",
      "Epoch 128/1000\n",
      "100/100 [==============================] - 2s 25ms/step - loss: 0.2825 - acc: 0.9036 - val_loss: 0.2465 - val_acc: 0.9167 - lr: 1.5445e-09\n",
      "Epoch 129/1000\n",
      "100/100 [==============================] - 2s 25ms/step - loss: 0.2615 - acc: 0.8996 - val_loss: 0.2594 - val_acc: 0.9000 - lr: 1.3901e-09\n",
      "Epoch 130/1000\n",
      "100/100 [==============================] - 3s 25ms/step - loss: 0.2750 - acc: 0.8876 - val_loss: 0.4254 - val_acc: 0.8333 - lr: 1.2511e-09\n",
      "Epoch 131/1000\n",
      "100/100 [==============================] - 2s 25ms/step - loss: 0.2572 - acc: 0.8996 - val_loss: 0.2774 - val_acc: 0.9000 - lr: 1.1260e-09\n",
      "Epoch 132/1000\n",
      "100/100 [==============================] - 3s 25ms/step - loss: 0.2610 - acc: 0.9116 - val_loss: 0.2815 - val_acc: 0.8833 - lr: 1.0134e-09\n",
      "Epoch 133/1000\n",
      "100/100 [==============================] - 2s 25ms/step - loss: 0.2787 - acc: 0.8956 - val_loss: 0.3071 - val_acc: 0.9000 - lr: 9.1203e-10\n",
      "Epoch 134/1000\n",
      "100/100 [==============================] - 2s 25ms/step - loss: 0.2450 - acc: 0.9036 - val_loss: 0.2345 - val_acc: 0.9167 - lr: 8.2083e-10\n",
      "Epoch 135/1000\n",
      "100/100 [==============================] - 2s 24ms/step - loss: 0.2628 - acc: 0.8976 - val_loss: 0.2559 - val_acc: 0.9167 - lr: 7.3875e-10\n",
      "Epoch 136/1000\n",
      "100/100 [==============================] - 2s 24ms/step - loss: 0.2331 - acc: 0.9056 - val_loss: 0.1998 - val_acc: 0.9167 - lr: 6.6487e-10\n",
      "Epoch 137/1000\n",
      "100/100 [==============================] - 2s 25ms/step - loss: 0.2657 - acc: 0.9076 - val_loss: 0.2042 - val_acc: 0.9500 - lr: 5.9839e-10\n",
      "Epoch 138/1000\n",
      " 98/100 [============================>.] - ETA: 0s - loss: 0.2412 - acc: 0.9037Restoring model weights from the end of the best epoch: 88.\n",
      "100/100 [==============================] - 3s 25ms/step - loss: 0.2381 - acc: 0.9056 - val_loss: 0.2805 - val_acc: 0.9000 - lr: 5.3855e-10\n",
      "Epoch 138: early stopping\n"
     ]
    }
   ],
   "source": [
    "from tensorflow.keras.optimizers import RMSprop\n",
    "\n",
    "modelFE.compile(loss='binary_crossentropy',\n",
    "              optimizer=RMSprop(lr=1e-4),\n",
    "              metrics=['acc'])\n",
    "\n",
    "batch_size = 5\n",
    "\n",
    "reduce_lr = tf.keras.callbacks.LearningRateScheduler(scheduler)\n",
    "early_stop = tf.keras.callbacks.EarlyStopping( monitor = 'val_loss', patience = 50,verbose = 1, \n",
    "                                              restore_best_weights = True)\n",
    "\n",
    "historyFE = modelFE.fit(train_generator,\n",
    "                        validation_data = validation_generator,\n",
    "                        callbacks=[reduce_lr, early_stop],\n",
    "                        epochs = 1000)"
   ]
  },
  {
   "cell_type": "markdown",
   "id": "112e67fc",
   "metadata": {},
   "source": [
    "# Vemos la evolución temporal de los loss y acc a lo largo de las épocas"
   ]
  },
  {
   "cell_type": "code",
   "execution_count": 55,
   "id": "acbb6e01",
   "metadata": {
    "ExecuteTime": {
     "end_time": "2022-11-14T00:00:38.635576Z",
     "start_time": "2022-11-14T00:00:38.298900Z"
    }
   },
   "outputs": [
    {
     "name": "stderr",
     "output_type": "stream",
     "text": [
      "No artists with labels found to put in legend.  Note that artists whose label start with an underscore are ignored when legend() is called with no argument.\n"
     ]
    },
    {
     "data": {
      "text/plain": [
       "<Figure size 640x480 with 0 Axes>"
      ]
     },
     "execution_count": 55,
     "metadata": {},
     "output_type": "execute_result"
    },
    {
     "data": {
      "image/png": "[encoded data removed]",
      "text/plain": [
       "<Figure size 640x480 with 1 Axes>"
      ]
     },
     "metadata": {},
     "output_type": "display_data"
    },
    {
     "data": {
      "image/png": "[encoded data removed]",
      "text/plain": [
       "<Figure size 640x480 with 1 Axes>"
      ]
     },
     "metadata": {},
     "output_type": "display_data"
    },
    {
     "data": {
      "text/plain": [
       "<Figure size 640x480 with 0 Axes>"
      ]
     },
     "metadata": {},
     "output_type": "display_data"
    }
   ],
   "source": [
    "acc      = historyFE.history[     'acc' ]\n",
    "val_acc  = historyFE.history[ 'val_acc' ]\n",
    "loss     = historyFE.history[    'loss' ]\n",
    "val_loss = historyFE.history['val_loss' ]\n",
    "\n",
    "epochs    = range(1,len(acc)+1,1) # obtener número de epochs\n",
    "\n",
    "plt.plot  ( epochs,     acc, 'r--', label='Training acc'  )\n",
    "plt.plot  ( epochs, val_acc,  'b', label='Validation acc')\n",
    "plt.title ('Training and validation accuracy')\n",
    "plt.ylabel('acc')\n",
    "#plt.ylim(0,1)\n",
    "plt.xlabel('epochs')\n",
    "\n",
    "plt.legend()\n",
    "plt.figure()\n",
    "\n",
    "\n",
    "plt.plot  ( epochs,     loss, 'r--' )\n",
    "plt.plot  ( epochs, val_loss ,  'b' )\n",
    "plt.title ('Training and validation loss'   )\n",
    "plt.ylabel('loss')\n",
    "plt.xlabel('epochs')\n",
    "#plt.ylim(0,1)\n",
    "\n",
    "plt.legend()\n",
    "plt.figure()\n"
   ]
  },
  {
   "cell_type": "markdown",
   "id": "229f8fbc",
   "metadata": {},
   "source": [
    "# Utilizamos los datos de test para evaluar el modelo"
   ]
  },
  {
   "cell_type": "code",
   "execution_count": 56,
   "id": "474d11b0",
   "metadata": {
    "ExecuteTime": {
     "end_time": "2022-11-14T00:00:42.885826Z",
     "start_time": "2022-11-14T00:00:42.576321Z"
    }
   },
   "outputs": [
    {
     "name": "stdout",
     "output_type": "stream",
     "text": [
      "12/12 [==============================] - 0s 20ms/step - loss: 0.2640 - acc: 0.9000\n",
      "Test Accuracy: 0.8999999761581421\n"
     ]
    }
   ],
   "source": [
    "test_lost, test_acc= modelFE.evaluate(test_generator)\n",
    "print (\"Test Accuracy:\", test_acc)"
   ]
  },
  {
   "cell_type": "code",
   "execution_count": 57,
   "id": "639fcba8",
   "metadata": {
    "ExecuteTime": {
     "end_time": "2022-11-14T00:00:47.529692Z",
     "start_time": "2022-11-14T00:00:47.505772Z"
    }
   },
   "outputs": [],
   "source": [
    "modelFE.save('FE.h5')"
   ]
  }
 ],
 "metadata": {
  "hide_input": false,
  "kernelspec": {
   "display_name": "Python 3 (ipykernel)",
   "language": "python",
   "name": "python3"
  },
  "language_info": {
   "codemirror_mode": {
    "name": "ipython",
    "version": 3
   },
   "file_extension": ".py",
   "mimetype": "text/x-python",
   "name": "python",
   "nbconvert_exporter": "python",
   "pygments_lexer": "ipython3",
   "version": "3.9.13"
  },
  "toc": {
   "base_numbering": 1,
   "nav_menu": {},
   "number_sections": true,
   "sideBar": true,
   "skip_h1_title": false,
   "title_cell": "Table of Contents",
   "title_sidebar": "Contents",
   "toc_cell": false,
   "toc_position": {},
   "toc_section_display": true,
   "toc_window_display": false
  },
  "varInspector": {
   "cols": {
    "lenName": 16,
    "lenType": 16,
    "lenVar": 40
   },
   "kernels_config": {
    "python": {
     "delete_cmd_postfix": "",
     "delete_cmd_prefix": "del ",
     "library": "var_list.py",
     "varRefreshCmd": "print(var_dic_list())"
    },
    "r": {
     "delete_cmd_postfix": ") ",
     "delete_cmd_prefix": "rm(",
     "library": "var_list.r",
     "varRefreshCmd": "cat(var_dic_list()) "
    }
   },
   "types_to_exclude": [
    "module",
    "function",
    "builtin_function_or_method",
    "instance",
    "_Feature"
   ],
   "window_display": false
  }
 },
 "nbformat": 4,
 "nbformat_minor": 5
}
