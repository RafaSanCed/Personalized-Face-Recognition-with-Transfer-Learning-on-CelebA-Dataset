{
 "cells": [
  {
   "cell_type": "markdown",
   "id": "3db0ec4d",
   "metadata": {},
   "source": [
    "# Importamos librerías"
   ]
  },
  {
   "cell_type": "code",
   "execution_count": 9,
   "id": "e0720279",
   "metadata": {
    "ExecuteTime": {
     "end_time": "2022-11-13T23:47:28.425297Z",
     "start_time": "2022-11-13T23:47:28.407329Z"
    }
   },
   "outputs": [],
   "source": [
    "import tensorflow as tf\n",
    "import os\n",
    "import matplotlib.pyplot as plt\n",
    "import pandas as pd\n",
    "import numpy as np"
   ]
  },
  {
   "cell_type": "markdown",
   "id": "0811cae5",
   "metadata": {
    "ExecuteTime": {
     "end_time": "2022-11-12T06:58:57.437923Z",
     "start_time": "2022-11-12T06:58:57.437923Z"
    }
   },
   "source": [
    "# Importamos el modelo entrenado anteriormente"
   ]
  },
  {
   "cell_type": "code",
   "execution_count": 14,
   "id": "108300c4",
   "metadata": {
    "ExecuteTime": {
     "end_time": "2022-11-13T23:48:43.499167Z",
     "start_time": "2022-11-13T23:48:43.319521Z"
    }
   },
   "outputs": [
    {
     "name": "stdout",
     "output_type": "stream",
     "text": [
      "Model: \"sequential_5\"\n",
      "_________________________________________________________________\n",
      " Layer (type)                Output Shape              Param #   \n",
      "=================================================================\n",
      " conv2d_30 (Conv2D)          (None, 176, 216, 32)      896       \n",
      "                                                                 \n",
      " max_pooling2d_9 (MaxPooling  (None, 88, 108, 32)      0         \n",
      " 2D)                                                             \n",
      "                                                                 \n",
      " conv2d_31 (Conv2D)          (None, 86, 106, 64)       18496     \n",
      "                                                                 \n",
      " max_pooling2d_10 (MaxPoolin  (None, 43, 53, 64)       0         \n",
      " g2D)                                                            \n",
      "                                                                 \n",
      " conv2d_32 (Conv2D)          (None, 41, 51, 32)        18464     \n",
      "                                                                 \n",
      " max_pooling2d_11 (MaxPoolin  (None, 20, 25, 32)       0         \n",
      " g2D)                                                            \n",
      "                                                                 \n",
      " dropout_13 (Dropout)        (None, 20, 25, 32)        0         \n",
      "                                                                 \n",
      " conv2d_33 (Conv2D)          (None, 18, 23, 32)        9248      \n",
      "                                                                 \n",
      " max_pooling2d_12 (MaxPoolin  (None, 9, 11, 32)        0         \n",
      " g2D)                                                            \n",
      "                                                                 \n",
      " conv2d_34 (Conv2D)          (None, 7, 9, 16)          4624      \n",
      "                                                                 \n",
      " max_pooling2d_13 (MaxPoolin  (None, 3, 4, 16)         0         \n",
      " g2D)                                                            \n",
      "                                                                 \n",
      " conv2d_35 (Conv2D)          (None, 1, 2, 8)           1160      \n",
      "                                                                 \n",
      " flatten_5 (Flatten)         (None, 16)                0         \n",
      "                                                                 \n",
      " dense_15 (Dense)            (None, 128)               2176      \n",
      "                                                                 \n",
      " dropout_14 (Dropout)        (None, 128)               0         \n",
      "                                                                 \n",
      " dense_16 (Dense)            (None, 64)                8256      \n",
      "                                                                 \n",
      " dense_17 (Dense)            (None, 32)                2080      \n",
      "                                                                 \n",
      "=================================================================\n",
      "Total params: 65,400\n",
      "Trainable params: 65,400\n",
      "Non-trainable params: 0\n",
      "_________________________________________________________________\n"
     ]
    }
   ],
   "source": [
    "from tensorflow.keras.models import load_model\n",
    "\n",
    "base_path = r'D:\\Documentos de trabajo\\Maestría\\Curso Maestría Introducción a Redes Neuronales\\Tarea 2\\Tarea 2. Reconocimiento facial\\Tareea2.-Curso-Redes-Neuronales.-Rafael-S-nchez-Cedillo\\Notebooks\\Segundo modelo'\n",
    "#base_path='../../../Segundo modelo'\n",
    "model_name = 'path_to_my_model2.h5'\n",
    "path_model = os.path.join(base_path,model_name)\n",
    "pre_trained_model = load_model(path_model)\n",
    "pre_trained_model.summary()"
   ]
  },
  {
   "cell_type": "markdown",
   "id": "7f035e9b",
   "metadata": {},
   "source": [
    "# Eliminamos capas densas "
   ]
  },
  {
   "cell_type": "code",
   "execution_count": 15,
   "id": "be7e17d7",
   "metadata": {
    "ExecuteTime": {
     "end_time": "2022-11-13T23:48:46.147756Z",
     "start_time": "2022-11-13T23:48:46.123790Z"
    }
   },
   "outputs": [
    {
     "name": "stdout",
     "output_type": "stream",
     "text": [
      "Model: \"sequential_5\"\n",
      "_________________________________________________________________\n",
      " Layer (type)                Output Shape              Param #   \n",
      "=================================================================\n",
      " conv2d_30 (Conv2D)          (None, 176, 216, 32)      896       \n",
      "                                                                 \n",
      " max_pooling2d_9 (MaxPooling  (None, 88, 108, 32)      0         \n",
      " 2D)                                                             \n",
      "                                                                 \n",
      " conv2d_31 (Conv2D)          (None, 86, 106, 64)       18496     \n",
      "                                                                 \n",
      " max_pooling2d_10 (MaxPoolin  (None, 43, 53, 64)       0         \n",
      " g2D)                                                            \n",
      "                                                                 \n",
      " conv2d_32 (Conv2D)          (None, 41, 51, 32)        18464     \n",
      "                                                                 \n",
      " max_pooling2d_11 (MaxPoolin  (None, 20, 25, 32)       0         \n",
      " g2D)                                                            \n",
      "                                                                 \n",
      " dropout_13 (Dropout)        (None, 20, 25, 32)        0         \n",
      "                                                                 \n",
      " conv2d_33 (Conv2D)          (None, 18, 23, 32)        9248      \n",
      "                                                                 \n",
      " max_pooling2d_12 (MaxPoolin  (None, 9, 11, 32)        0         \n",
      " g2D)                                                            \n",
      "                                                                 \n",
      " conv2d_34 (Conv2D)          (None, 7, 9, 16)          4624      \n",
      "                                                                 \n",
      " max_pooling2d_13 (MaxPoolin  (None, 3, 4, 16)         0         \n",
      " g2D)                                                            \n",
      "                                                                 \n",
      " conv2d_35 (Conv2D)          (None, 1, 2, 8)           1160      \n",
      "                                                                 \n",
      " flatten_5 (Flatten)         (None, 16)                0         \n",
      "                                                                 \n",
      "=================================================================\n",
      "Total params: 52,888\n",
      "Trainable params: 52,888\n",
      "Non-trainable params: 0\n",
      "_________________________________________________________________\n"
     ]
    }
   ],
   "source": [
    "pre_trained_model.pop()\n",
    "pre_trained_model.pop()\n",
    "pre_trained_model.pop()\n",
    "pre_trained_model.pop()\n",
    "pre_trained_model.summary()"
   ]
  },
  {
   "cell_type": "markdown",
   "id": "34b29f1a",
   "metadata": {},
   "source": [
    "# Congelamos los pesos de las capas correspondientes y dejamos las últimas capas convolucionales entrenables"
   ]
  },
  {
   "cell_type": "code",
   "execution_count": 16,
   "id": "a2f1557e",
   "metadata": {
    "ExecuteTime": {
     "end_time": "2022-11-13T23:48:46.674801Z",
     "start_time": "2022-11-13T23:48:46.652839Z"
    }
   },
   "outputs": [
    {
     "name": "stdout",
     "output_type": "stream",
     "text": [
      "Model: \"sequential_5\"\n",
      "_________________________________________________________________\n",
      " Layer (type)                Output Shape              Param #   \n",
      "=================================================================\n",
      " conv2d_30 (Conv2D)          (None, 176, 216, 32)      896       \n",
      "                                                                 \n",
      " max_pooling2d_9 (MaxPooling  (None, 88, 108, 32)      0         \n",
      " 2D)                                                             \n",
      "                                                                 \n",
      " conv2d_31 (Conv2D)          (None, 86, 106, 64)       18496     \n",
      "                                                                 \n",
      " max_pooling2d_10 (MaxPoolin  (None, 43, 53, 64)       0         \n",
      " g2D)                                                            \n",
      "                                                                 \n",
      " conv2d_32 (Conv2D)          (None, 41, 51, 32)        18464     \n",
      "                                                                 \n",
      " max_pooling2d_11 (MaxPoolin  (None, 20, 25, 32)       0         \n",
      " g2D)                                                            \n",
      "                                                                 \n",
      " dropout_13 (Dropout)        (None, 20, 25, 32)        0         \n",
      "                                                                 \n",
      " conv2d_33 (Conv2D)          (None, 18, 23, 32)        9248      \n",
      "                                                                 \n",
      " max_pooling2d_12 (MaxPoolin  (None, 9, 11, 32)        0         \n",
      " g2D)                                                            \n",
      "                                                                 \n",
      " conv2d_34 (Conv2D)          (None, 7, 9, 16)          4624      \n",
      "                                                                 \n",
      " max_pooling2d_13 (MaxPoolin  (None, 3, 4, 16)         0         \n",
      " g2D)                                                            \n",
      "                                                                 \n",
      " conv2d_35 (Conv2D)          (None, 1, 2, 8)           1160      \n",
      "                                                                 \n",
      " flatten_5 (Flatten)         (None, 16)                0         \n",
      "                                                                 \n",
      "=================================================================\n",
      "Total params: 52,888\n",
      "Trainable params: 5,784\n",
      "Non-trainable params: 47,104\n",
      "_________________________________________________________________\n"
     ]
    }
   ],
   "source": [
    "pre_trained_model.trainable = True\n",
    "\n",
    "set_trainable = False\n",
    "\n",
    "\n",
    "for layer in pre_trained_model.layers:\n",
    "    if layer.name == 'conv2d_35':\n",
    "        set_trainable = True\n",
    "    if layer.name == 'conv2d_34':\n",
    "        set_trainable = True\n",
    "    \n",
    "    if set_trainable: \n",
    "        layer.trainable = True\n",
    "    else:\n",
    "        layer.trainable = False\n",
    "\n",
    "pre_trained_model.summary()\n"
   ]
  },
  {
   "cell_type": "markdown",
   "id": "16d1a0af",
   "metadata": {},
   "source": [
    "# Creamos nuevo modelo"
   ]
  },
  {
   "cell_type": "code",
   "execution_count": 17,
   "id": "b298f1fb",
   "metadata": {
    "ExecuteTime": {
     "end_time": "2022-11-13T23:48:47.529663Z",
     "start_time": "2022-11-13T23:48:47.474850Z"
    }
   },
   "outputs": [
    {
     "name": "stdout",
     "output_type": "stream",
     "text": [
      "Model: \"sequential\"\n",
      "_________________________________________________________________\n",
      " Layer (type)                Output Shape              Param #   \n",
      "=================================================================\n",
      " sequential_5 (Sequential)   (None, 16)                52888     \n",
      "                                                                 \n",
      " flatten (Flatten)           (None, 16)                0         \n",
      "                                                                 \n",
      " dense (Dense)               (None, 256)               4352      \n",
      "                                                                 \n",
      " dense_1 (Dense)             (None, 256)               65792     \n",
      "                                                                 \n",
      " dense_2 (Dense)             (None, 128)               32896     \n",
      "                                                                 \n",
      " dense_3 (Dense)             (None, 1)                 129       \n",
      "                                                                 \n",
      "=================================================================\n",
      "Total params: 156,057\n",
      "Trainable params: 108,953\n",
      "Non-trainable params: 47,104\n",
      "_________________________________________________________________\n"
     ]
    }
   ],
   "source": [
    "from tensorflow.keras import Model\n",
    "from tensorflow.keras import Sequential\n",
    "from tensorflow.keras.layers import Conv2D, MaxPooling2D, Flatten, Dense\n",
    "\n",
    "modelFT = Sequential()\n",
    "modelFT.add(pre_trained_model)\n",
    "modelFT.add(Flatten())\n",
    "modelFT.add(Dense(256, activation='relu'))\n",
    "modelFT.add(Dense(256, activation='relu'))\n",
    "modelFT.add(Dense(128, activation='relu'))\n",
    "modelFT.add(Dense(1, activation='sigmoid'))\n",
    "modelFT.summary()"
   ]
  },
  {
   "cell_type": "markdown",
   "id": "2e35d767",
   "metadata": {},
   "source": [
    "# Creamos rutas de acceso a las bases de datos"
   ]
  },
  {
   "cell_type": "code",
   "execution_count": 18,
   "id": "56fc661d",
   "metadata": {
    "ExecuteTime": {
     "end_time": "2022-11-13T23:48:48.243782Z",
     "start_time": "2022-11-13T23:48:48.226838Z"
    }
   },
   "outputs": [],
   "source": [
    "base_dir = 'D:\\Documentos de trabajo\\Maestría\\Curso Maestría Introducción a Redes Neuronales\\Tarea 2\\Tarea 2. Reconocimiento facial\\Tareea2.-Curso-Redes-Neuronales.-Rafael-S-nchez-Cedillo\\Data\\Recognize_me'"
   ]
  },
  {
   "cell_type": "code",
   "execution_count": 19,
   "id": "4493ff57",
   "metadata": {
    "ExecuteTime": {
     "end_time": "2022-11-13T23:48:48.616952Z",
     "start_time": "2022-11-13T23:48:48.609973Z"
    }
   },
   "outputs": [],
   "source": [
    "train_dir = os.path.join(base_dir, 'Train/')\n",
    "validation_dir = os.path.join(base_dir, 'Val/')\n",
    "test_dir = os.path.join(base_dir, 'Test/')"
   ]
  },
  {
   "cell_type": "markdown",
   "id": "db213a4c",
   "metadata": {
    "ExecuteTime": {
     "end_time": "2022-11-12T17:33:57.929356Z",
     "start_time": "2022-11-12T17:33:57.913541Z"
    }
   },
   "source": [
    "# Procesamos las imágenes para introducirlas al modelo\n",
    "\n",
    "En esta sección se procesan las imágenes para ser introducidas al modelo. Solo debe de correr una de las dos celdas. La primera si se requiere aumentar los datos de forma artificial y la segunda si los la base de datos se considera lo suficientemente grande y no se requiere el aumento de las imágenes."
   ]
  },
  {
   "cell_type": "code",
   "execution_count": 22,
   "id": "ada574b4",
   "metadata": {
    "ExecuteTime": {
     "end_time": "2022-11-13T23:48:54.239957Z",
     "start_time": "2022-11-13T23:48:54.196165Z"
    }
   },
   "outputs": [
    {
     "name": "stdout",
     "output_type": "stream",
     "text": [
      "Found 498 images belonging to 2 classes.\n",
      "Found 60 images belonging to 2 classes.\n",
      "Found 60 images belonging to 2 classes.\n"
     ]
    }
   ],
   "source": [
    "from keras.preprocessing.image import ImageDataGenerator\n",
    "\n",
    "train_datagen = ImageDataGenerator(rotation_range=20,\n",
    "                                   rescale= 1./255.,\n",
    "                                   zoom_range=0.15,\n",
    "                                   width_shift_range=0.2,\n",
    "                                   height_shift_range=0.2,\n",
    "                                   shear_range=0.15,\n",
    "                                   horizontal_flip=True,\n",
    "                                   fill_mode=\"nearest\")\n",
    "validation_datagen  = ImageDataGenerator(rotation_range=20,\n",
    "                                        rescale= 1./255.,\n",
    "                                        zoom_range=0.15,\n",
    "                                        width_shift_range=0.2,\n",
    "                                        height_shift_range=0.2,\n",
    "                                        shear_range=0.15,\n",
    "                                        horizontal_flip=True,\n",
    "                                        fill_mode=\"nearest\")\n",
    "test_datagen  = ImageDataGenerator(rotation_range=20,\n",
    "                                   rescale= 1./255.,\n",
    "                                   zoom_range=0.15,\n",
    "                                   width_shift_range=0.2,\n",
    "                                   height_shift_range=0.2,\n",
    "                                   shear_range=0.15,\n",
    "                                   horizontal_flip=True,\n",
    "                                   fill_mode=\"nearest\") \n",
    "train_generator = train_datagen.flow_from_directory(train_dir,\n",
    "                                                    batch_size=5,\n",
    "                                                    class_mode='binary',\n",
    "                                                    target_size=(178, 218))     \n",
    "\n",
    "validation_generator =  validation_datagen.flow_from_directory(validation_dir,\n",
    "                                                         batch_size=5,\n",
    "                                                         class_mode  = 'binary',\n",
    "                                                         target_size = (178, 218))\n",
    "\n",
    "\n",
    "test_generator =  test_datagen.flow_from_directory(validation_dir,\n",
    "                                                         batch_size=5,\n",
    "                                                         class_mode  = 'binary',\n",
    "                                                         target_size = (178, 218))"
   ]
  },
  {
   "cell_type": "code",
   "execution_count": 21,
   "id": "fdbb9fe9",
   "metadata": {
    "ExecuteTime": {
     "end_time": "2022-11-13T23:48:50.653821Z",
     "start_time": "2022-11-13T23:48:50.531591Z"
    }
   },
   "outputs": [
    {
     "name": "stdout",
     "output_type": "stream",
     "text": [
      "Found 498 files belonging to 2 classes.\n",
      "Found 60 files belonging to 2 classes.\n",
      "Found 66 images belonging to 2 classes.\n"
     ]
    }
   ],
   "source": [
    "train_generator = tf.keras.preprocessing.image_dataset_from_directory(\n",
    "    train_dir,\n",
    "    labels=\"inferred\",\n",
    "    label_mode=\"binary\",\n",
    "    class_names=None,\n",
    "    color_mode=\"rgb\",\n",
    "    batch_size=32,\n",
    "    image_size=(178, 218),\n",
    "    shuffle=True,\n",
    "    seed=None,\n",
    "    validation_split=None,\n",
    "    subset=None,\n",
    "    interpolation=\"bilinear\",\n",
    "    follow_links=False,\n",
    "    crop_to_aspect_ratio=True)\n",
    "\n",
    "validation_generator =  tf.keras.preprocessing.image_dataset_from_directory(\n",
    "    validation_dir,\n",
    "    labels=\"inferred\",\n",
    "    label_mode=\"binary\",\n",
    "    class_names=None,\n",
    "    color_mode=\"rgb\",\n",
    "    batch_size=32,\n",
    "    image_size=(178, 218),\n",
    "    shuffle=True,\n",
    "    seed=None,\n",
    "    validation_split=None,\n",
    "    subset=None,\n",
    "    interpolation=\"bilinear\",\n",
    "    follow_links=False,\n",
    "    crop_to_aspect_ratio=True)\n",
    "\n",
    "\n",
    "test_generator =  test_datagen.flow_from_directory(test_dir,\n",
    "                                                         batch_size=5,\n",
    "                                                         class_mode  = 'binary',\n",
    "                                                         target_size = (178, 218))"
   ]
  },
  {
   "cell_type": "markdown",
   "id": "1523804b",
   "metadata": {},
   "source": [
    "# Prombamos el modelo"
   ]
  },
  {
   "cell_type": "code",
   "execution_count": 23,
   "id": "9d08a63f",
   "metadata": {
    "ExecuteTime": {
     "end_time": "2022-11-13T23:48:56.891580Z",
     "start_time": "2022-11-13T23:48:56.880641Z"
    }
   },
   "outputs": [],
   "source": [
    "def scheduler(epoch, lr):\n",
    "  if epoch < 10:\n",
    "    return lr\n",
    "  else:\n",
    "    return 1e-3 * 0.9 ** epoch"
   ]
  },
  {
   "cell_type": "code",
   "execution_count": 24,
   "id": "725a532a",
   "metadata": {
    "ExecuteTime": {
     "end_time": "2022-11-13T23:52:19.368295Z",
     "start_time": "2022-11-13T23:48:57.256405Z"
    }
   },
   "outputs": [
    {
     "name": "stdout",
     "output_type": "stream",
     "text": [
      "Epoch 1/1000\n"
     ]
    },
    {
     "name": "stderr",
     "output_type": "stream",
     "text": [
      "C:\\Users\\rafae\\anaconda3\\envs\\tfgpu\\lib\\site-packages\\keras\\optimizers\\optimizer_v2\\rmsprop.py:140: UserWarning: The `lr` argument is deprecated, use `learning_rate` instead.\n",
      "  super().__init__(name, **kwargs)\n"
     ]
    },
    {
     "name": "stdout",
     "output_type": "stream",
     "text": [
      "100/100 [==============================] - 3s 27ms/step - loss: 0.3915 - acc: 0.8333 - val_loss: 0.3713 - val_acc: 0.8333 - lr: 1.0000e-04\n",
      "Epoch 2/1000\n",
      "100/100 [==============================] - 3s 25ms/step - loss: 0.3262 - acc: 0.8434 - val_loss: 0.3236 - val_acc: 0.8667 - lr: 1.0000e-04\n",
      "Epoch 3/1000\n",
      "100/100 [==============================] - 3s 26ms/step - loss: 0.2771 - acc: 0.8896 - val_loss: 0.3477 - val_acc: 0.8667 - lr: 1.0000e-04\n",
      "Epoch 4/1000\n",
      "100/100 [==============================] - 3s 26ms/step - loss: 0.2491 - acc: 0.9237 - val_loss: 0.2522 - val_acc: 0.9167 - lr: 1.0000e-04\n",
      "Epoch 5/1000\n",
      "100/100 [==============================] - 3s 26ms/step - loss: 0.2319 - acc: 0.9237 - val_loss: 0.2794 - val_acc: 0.8667 - lr: 1.0000e-04\n",
      "Epoch 6/1000\n",
      "100/100 [==============================] - 3s 25ms/step - loss: 0.2189 - acc: 0.9297 - val_loss: 0.3416 - val_acc: 0.8667 - lr: 1.0000e-04\n",
      "Epoch 7/1000\n",
      "100/100 [==============================] - 3s 25ms/step - loss: 0.2207 - acc: 0.9357 - val_loss: 0.3020 - val_acc: 0.8667 - lr: 1.0000e-04\n",
      "Epoch 8/1000\n",
      "100/100 [==============================] - 3s 26ms/step - loss: 0.1904 - acc: 0.9438 - val_loss: 0.2220 - val_acc: 0.9167 - lr: 1.0000e-04\n",
      "Epoch 9/1000\n",
      "100/100 [==============================] - 3s 26ms/step - loss: 0.1609 - acc: 0.9518 - val_loss: 0.3056 - val_acc: 0.8667 - lr: 1.0000e-04\n",
      "Epoch 10/1000\n",
      "100/100 [==============================] - 3s 26ms/step - loss: 0.1851 - acc: 0.9337 - val_loss: 0.2396 - val_acc: 0.9000 - lr: 1.0000e-04\n",
      "Epoch 11/1000\n",
      "100/100 [==============================] - 3s 25ms/step - loss: 0.1811 - acc: 0.9357 - val_loss: 0.1617 - val_acc: 0.9333 - lr: 3.4868e-04\n",
      "Epoch 12/1000\n",
      "100/100 [==============================] - 3s 26ms/step - loss: 0.1712 - acc: 0.9398 - val_loss: 0.1579 - val_acc: 0.9333 - lr: 3.1381e-04\n",
      "Epoch 13/1000\n",
      "100/100 [==============================] - 3s 26ms/step - loss: 0.1614 - acc: 0.9558 - val_loss: 0.1832 - val_acc: 0.9333 - lr: 2.8243e-04\n",
      "Epoch 14/1000\n",
      "100/100 [==============================] - 3s 25ms/step - loss: 0.1265 - acc: 0.9639 - val_loss: 0.3516 - val_acc: 0.8167 - lr: 2.5419e-04\n",
      "Epoch 15/1000\n",
      "100/100 [==============================] - 3s 26ms/step - loss: 0.1295 - acc: 0.9618 - val_loss: 0.2183 - val_acc: 0.9333 - lr: 2.2877e-04\n",
      "Epoch 16/1000\n",
      "100/100 [==============================] - 3s 25ms/step - loss: 0.1314 - acc: 0.9598 - val_loss: 0.1902 - val_acc: 0.9333 - lr: 2.0589e-04\n",
      "Epoch 17/1000\n",
      "100/100 [==============================] - 3s 25ms/step - loss: 0.1179 - acc: 0.9639 - val_loss: 0.2257 - val_acc: 0.9000 - lr: 1.8530e-04\n",
      "Epoch 18/1000\n",
      "100/100 [==============================] - 2s 25ms/step - loss: 0.1415 - acc: 0.9558 - val_loss: 0.1886 - val_acc: 0.9333 - lr: 1.6677e-04\n",
      "Epoch 19/1000\n",
      "100/100 [==============================] - 3s 25ms/step - loss: 0.1003 - acc: 0.9618 - val_loss: 0.2046 - val_acc: 0.9333 - lr: 1.5009e-04\n",
      "Epoch 20/1000\n",
      "100/100 [==============================] - 2s 25ms/step - loss: 0.1462 - acc: 0.9357 - val_loss: 0.1336 - val_acc: 0.9667 - lr: 1.3509e-04\n",
      "Epoch 21/1000\n",
      "100/100 [==============================] - 2s 24ms/step - loss: 0.1137 - acc: 0.9639 - val_loss: 0.1043 - val_acc: 0.9667 - lr: 1.2158e-04\n",
      "Epoch 22/1000\n",
      "100/100 [==============================] - 2s 24ms/step - loss: 0.0928 - acc: 0.9659 - val_loss: 0.2147 - val_acc: 0.9333 - lr: 1.0942e-04\n",
      "Epoch 23/1000\n",
      "100/100 [==============================] - 2s 24ms/step - loss: 0.0920 - acc: 0.9699 - val_loss: 0.1027 - val_acc: 0.9667 - lr: 9.8477e-05\n",
      "Epoch 24/1000\n",
      "100/100 [==============================] - 2s 25ms/step - loss: 0.1007 - acc: 0.9679 - val_loss: 0.1388 - val_acc: 0.9667 - lr: 8.8629e-05\n",
      "Epoch 25/1000\n",
      "100/100 [==============================] - 3s 25ms/step - loss: 0.1260 - acc: 0.9558 - val_loss: 0.1839 - val_acc: 0.9167 - lr: 7.9766e-05\n",
      "Epoch 26/1000\n",
      "100/100 [==============================] - 3s 26ms/step - loss: 0.0999 - acc: 0.9699 - val_loss: 0.2052 - val_acc: 0.9333 - lr: 7.1790e-05\n",
      "Epoch 27/1000\n",
      "100/100 [==============================] - 2s 25ms/step - loss: 0.1035 - acc: 0.9598 - val_loss: 0.1413 - val_acc: 0.9667 - lr: 6.4611e-05\n",
      "Epoch 28/1000\n",
      "100/100 [==============================] - 3s 25ms/step - loss: 0.1029 - acc: 0.9558 - val_loss: 0.1453 - val_acc: 0.9500 - lr: 5.8150e-05\n",
      "Epoch 29/1000\n",
      "100/100 [==============================] - 2s 25ms/step - loss: 0.0955 - acc: 0.9639 - val_loss: 0.0619 - val_acc: 0.9833 - lr: 5.2335e-05\n",
      "Epoch 30/1000\n",
      "100/100 [==============================] - 3s 25ms/step - loss: 0.1038 - acc: 0.9639 - val_loss: 0.0834 - val_acc: 0.9667 - lr: 4.7101e-05\n",
      "Epoch 31/1000\n",
      "100/100 [==============================] - 3s 25ms/step - loss: 0.1140 - acc: 0.9659 - val_loss: 0.1209 - val_acc: 0.9333 - lr: 4.2391e-05\n",
      "Epoch 32/1000\n",
      "100/100 [==============================] - 2s 25ms/step - loss: 0.0975 - acc: 0.9659 - val_loss: 0.1632 - val_acc: 0.9167 - lr: 3.8152e-05\n",
      "Epoch 33/1000\n",
      "100/100 [==============================] - 2s 25ms/step - loss: 0.0795 - acc: 0.9699 - val_loss: 0.1612 - val_acc: 0.9333 - lr: 3.4337e-05\n",
      "Epoch 34/1000\n",
      "100/100 [==============================] - 3s 25ms/step - loss: 0.0803 - acc: 0.9719 - val_loss: 0.1044 - val_acc: 0.9667 - lr: 3.0903e-05\n",
      "Epoch 35/1000\n",
      "100/100 [==============================] - 3s 25ms/step - loss: 0.0916 - acc: 0.9779 - val_loss: 0.0941 - val_acc: 0.9500 - lr: 2.7813e-05\n",
      "Epoch 36/1000\n",
      "100/100 [==============================] - 2s 25ms/step - loss: 0.0992 - acc: 0.9739 - val_loss: 0.1524 - val_acc: 0.9500 - lr: 2.5032e-05\n",
      "Epoch 37/1000\n",
      "100/100 [==============================] - 3s 25ms/step - loss: 0.0742 - acc: 0.9739 - val_loss: 0.1590 - val_acc: 0.9167 - lr: 2.2528e-05\n",
      "Epoch 38/1000\n",
      "100/100 [==============================] - 3s 25ms/step - loss: 0.0929 - acc: 0.9639 - val_loss: 0.0781 - val_acc: 0.9833 - lr: 2.0276e-05\n",
      "Epoch 39/1000\n",
      "100/100 [==============================] - 3s 25ms/step - loss: 0.0980 - acc: 0.9639 - val_loss: 0.1169 - val_acc: 0.9833 - lr: 1.8248e-05\n",
      "Epoch 40/1000\n",
      "100/100 [==============================] - 3s 25ms/step - loss: 0.0755 - acc: 0.9719 - val_loss: 0.1429 - val_acc: 0.9333 - lr: 1.6423e-05\n",
      "Epoch 41/1000\n",
      "100/100 [==============================] - 3s 25ms/step - loss: 0.0987 - acc: 0.9659 - val_loss: 0.1549 - val_acc: 0.9167 - lr: 1.4781e-05\n",
      "Epoch 42/1000\n",
      "100/100 [==============================] - 3s 25ms/step - loss: 0.1042 - acc: 0.9679 - val_loss: 0.1242 - val_acc: 0.9667 - lr: 1.3303e-05\n",
      "Epoch 43/1000\n",
      "100/100 [==============================] - 3s 26ms/step - loss: 0.0846 - acc: 0.9679 - val_loss: 0.1230 - val_acc: 0.9167 - lr: 1.1973e-05\n",
      "Epoch 44/1000\n",
      "100/100 [==============================] - 3s 25ms/step - loss: 0.1013 - acc: 0.9618 - val_loss: 0.1278 - val_acc: 0.9500 - lr: 1.0775e-05\n",
      "Epoch 45/1000\n",
      "100/100 [==============================] - 3s 25ms/step - loss: 0.1168 - acc: 0.9578 - val_loss: 0.2469 - val_acc: 0.9333 - lr: 9.6977e-06\n",
      "Epoch 46/1000\n",
      "100/100 [==============================] - 3s 26ms/step - loss: 0.1004 - acc: 0.9699 - val_loss: 0.1659 - val_acc: 0.9333 - lr: 8.7280e-06\n",
      "Epoch 47/1000\n",
      "100/100 [==============================] - 3s 25ms/step - loss: 0.0990 - acc: 0.9639 - val_loss: 0.1363 - val_acc: 0.9167 - lr: 7.8552e-06\n",
      "Epoch 48/1000\n",
      "100/100 [==============================] - 3s 25ms/step - loss: 0.0853 - acc: 0.9719 - val_loss: 0.1187 - val_acc: 0.9667 - lr: 7.0697e-06\n",
      "Epoch 49/1000\n",
      "100/100 [==============================] - 3s 25ms/step - loss: 0.0691 - acc: 0.9759 - val_loss: 0.1935 - val_acc: 0.9333 - lr: 6.3627e-06\n",
      "Epoch 50/1000\n",
      "100/100 [==============================] - 3s 25ms/step - loss: 0.0813 - acc: 0.9759 - val_loss: 0.1793 - val_acc: 0.9333 - lr: 5.7264e-06\n",
      "Epoch 51/1000\n",
      "100/100 [==============================] - 3s 25ms/step - loss: 0.0985 - acc: 0.9679 - val_loss: 0.1087 - val_acc: 0.9667 - lr: 5.1538e-06\n",
      "Epoch 52/1000\n",
      "100/100 [==============================] - 3s 26ms/step - loss: 0.0961 - acc: 0.9719 - val_loss: 0.1311 - val_acc: 0.9500 - lr: 4.6384e-06\n",
      "Epoch 53/1000\n",
      "100/100 [==============================] - 3s 25ms/step - loss: 0.0981 - acc: 0.9659 - val_loss: 0.1488 - val_acc: 0.9500 - lr: 4.1746e-06\n",
      "Epoch 54/1000\n",
      "100/100 [==============================] - 3s 25ms/step - loss: 0.1010 - acc: 0.9679 - val_loss: 0.1402 - val_acc: 0.9667 - lr: 3.7571e-06\n"
     ]
    },
    {
     "name": "stdout",
     "output_type": "stream",
     "text": [
      "Epoch 55/1000\n",
      "100/100 [==============================] - 3s 25ms/step - loss: 0.0765 - acc: 0.9719 - val_loss: 0.1148 - val_acc: 0.9667 - lr: 3.3814e-06\n",
      "Epoch 56/1000\n",
      "100/100 [==============================] - 3s 25ms/step - loss: 0.0913 - acc: 0.9639 - val_loss: 0.1686 - val_acc: 0.9667 - lr: 3.0433e-06\n",
      "Epoch 57/1000\n",
      "100/100 [==============================] - 3s 26ms/step - loss: 0.1001 - acc: 0.9639 - val_loss: 0.1129 - val_acc: 0.9500 - lr: 2.7389e-06\n",
      "Epoch 58/1000\n",
      "100/100 [==============================] - 3s 25ms/step - loss: 0.0737 - acc: 0.9719 - val_loss: 0.1369 - val_acc: 0.9500 - lr: 2.4650e-06\n",
      "Epoch 59/1000\n",
      "100/100 [==============================] - 3s 26ms/step - loss: 0.1045 - acc: 0.9759 - val_loss: 0.1862 - val_acc: 0.9167 - lr: 2.2185e-06\n",
      "Epoch 60/1000\n",
      "100/100 [==============================] - 3s 25ms/step - loss: 0.0801 - acc: 0.9719 - val_loss: 0.1684 - val_acc: 0.9500 - lr: 1.9967e-06\n",
      "Epoch 61/1000\n",
      "100/100 [==============================] - 3s 25ms/step - loss: 0.0625 - acc: 0.9759 - val_loss: 0.2575 - val_acc: 0.8833 - lr: 1.7970e-06\n",
      "Epoch 62/1000\n",
      "100/100 [==============================] - 3s 25ms/step - loss: 0.0903 - acc: 0.9578 - val_loss: 0.1419 - val_acc: 0.9500 - lr: 1.6173e-06\n",
      "Epoch 63/1000\n",
      "100/100 [==============================] - 3s 25ms/step - loss: 0.0787 - acc: 0.9779 - val_loss: 0.2350 - val_acc: 0.9333 - lr: 1.4556e-06\n",
      "Epoch 64/1000\n",
      "100/100 [==============================] - 3s 26ms/step - loss: 0.0902 - acc: 0.9639 - val_loss: 0.1211 - val_acc: 0.9333 - lr: 1.3100e-06\n",
      "Epoch 65/1000\n",
      "100/100 [==============================] - 3s 25ms/step - loss: 0.1077 - acc: 0.9659 - val_loss: 0.1225 - val_acc: 0.9667 - lr: 1.1790e-06\n",
      "Epoch 66/1000\n",
      "100/100 [==============================] - 3s 25ms/step - loss: 0.1135 - acc: 0.9699 - val_loss: 0.0966 - val_acc: 0.9833 - lr: 1.0611e-06\n",
      "Epoch 67/1000\n",
      "100/100 [==============================] - 3s 26ms/step - loss: 0.0852 - acc: 0.9679 - val_loss: 0.1728 - val_acc: 0.9500 - lr: 9.5500e-07\n",
      "Epoch 68/1000\n",
      "100/100 [==============================] - 3s 25ms/step - loss: 0.1001 - acc: 0.9679 - val_loss: 0.1163 - val_acc: 0.9667 - lr: 8.5950e-07\n",
      "Epoch 69/1000\n",
      "100/100 [==============================] - 3s 25ms/step - loss: 0.0751 - acc: 0.9759 - val_loss: 0.1381 - val_acc: 0.9667 - lr: 7.7355e-07\n",
      "Epoch 70/1000\n",
      "100/100 [==============================] - 3s 25ms/step - loss: 0.1186 - acc: 0.9598 - val_loss: 0.1098 - val_acc: 0.9667 - lr: 6.9620e-07\n",
      "Epoch 71/1000\n",
      "100/100 [==============================] - 3s 25ms/step - loss: 0.0889 - acc: 0.9759 - val_loss: 0.1101 - val_acc: 0.9500 - lr: 6.2658e-07\n",
      "Epoch 72/1000\n",
      "100/100 [==============================] - 3s 25ms/step - loss: 0.0921 - acc: 0.9679 - val_loss: 0.1628 - val_acc: 0.9500 - lr: 5.6392e-07\n",
      "Epoch 73/1000\n",
      "100/100 [==============================] - 3s 25ms/step - loss: 0.0738 - acc: 0.9739 - val_loss: 0.1742 - val_acc: 0.9333 - lr: 5.0753e-07\n",
      "Epoch 74/1000\n",
      "100/100 [==============================] - 3s 26ms/step - loss: 0.0727 - acc: 0.9639 - val_loss: 0.1974 - val_acc: 0.9000 - lr: 4.5678e-07\n",
      "Epoch 75/1000\n",
      "100/100 [==============================] - 3s 26ms/step - loss: 0.0632 - acc: 0.9779 - val_loss: 0.2070 - val_acc: 0.9167 - lr: 4.1110e-07\n",
      "Epoch 76/1000\n",
      "100/100 [==============================] - 3s 25ms/step - loss: 0.1045 - acc: 0.9699 - val_loss: 0.3498 - val_acc: 0.8667 - lr: 3.6999e-07\n",
      "Epoch 77/1000\n",
      "100/100 [==============================] - 3s 25ms/step - loss: 0.1137 - acc: 0.9659 - val_loss: 0.0975 - val_acc: 0.9667 - lr: 3.3299e-07\n",
      "Epoch 78/1000\n",
      "100/100 [==============================] - 3s 26ms/step - loss: 0.0854 - acc: 0.9739 - val_loss: 0.1681 - val_acc: 0.9333 - lr: 2.9969e-07\n",
      "Epoch 79/1000\n",
      "100/100 [==============================] - ETA: 0s - loss: 0.0792 - acc: 0.9779Restoring model weights from the end of the best epoch: 29.\n",
      "100/100 [==============================] - 3s 27ms/step - loss: 0.0792 - acc: 0.9779 - val_loss: 0.1462 - val_acc: 0.9333 - lr: 2.6972e-07\n",
      "Epoch 79: early stopping\n"
     ]
    }
   ],
   "source": [
    "from tensorflow.keras.optimizers import RMSprop\n",
    "\n",
    "modelFT.compile(loss='binary_crossentropy',\n",
    "              optimizer=RMSprop(lr=1e-4),\n",
    "              metrics=['acc'])\n",
    "\n",
    "batch_size = 5\n",
    "\n",
    "reduce_lr = tf.keras.callbacks.LearningRateScheduler(scheduler)\n",
    "early_stop = tf.keras.callbacks.EarlyStopping( monitor = 'val_loss', patience = 50,verbose = 1, \n",
    "                                              restore_best_weights = True)\n",
    "\n",
    "historyFT= modelFT.fit(train_generator,\n",
    "                        validation_data = validation_generator,\n",
    "                        callbacks=[reduce_lr, early_stop],\n",
    "                        epochs = 1000)"
   ]
  },
  {
   "cell_type": "markdown",
   "id": "112e67fc",
   "metadata": {},
   "source": [
    "# Vemos la evolución temporal de los loss y acc a lo largo de las épocas"
   ]
  },
  {
   "cell_type": "code",
   "execution_count": 26,
   "id": "acbb6e01",
   "metadata": {
    "ExecuteTime": {
     "end_time": "2022-11-13T23:54:01.633126Z",
     "start_time": "2022-11-13T23:54:01.411106Z"
    }
   },
   "outputs": [
    {
     "name": "stderr",
     "output_type": "stream",
     "text": [
      "No artists with labels found to put in legend.  Note that artists whose label start with an underscore are ignored when legend() is called with no argument.\n"
     ]
    },
    {
     "data": {
      "text/plain": [
       "<Figure size 640x480 with 0 Axes>"
      ]
     },
     "execution_count": 26,
     "metadata": {},
     "output_type": "execute_result"
    },
    {
     "data": {
      "image/png": "[encoded data removed]",
      "text/plain": [
       "<Figure size 640x480 with 1 Axes>"
      ]
     },
     "metadata": {},
     "output_type": "display_data"
    },
    {
     "data": {
      "image/png": "[encoded data removed]",
      "text/plain": [
       "<Figure size 640x480 with 1 Axes>"
      ]
     },
     "metadata": {},
     "output_type": "display_data"
    },
    {
     "data": {
      "text/plain": [
       "<Figure size 640x480 with 0 Axes>"
      ]
     },
     "metadata": {},
     "output_type": "display_data"
    }
   ],
   "source": [
    "acc      = historyFT.history[     'acc' ]\n",
    "val_acc  = historyFT.history[ 'val_acc' ]\n",
    "loss     = historyFT.history[    'loss' ]\n",
    "val_loss = historyFT.history['val_loss' ]\n",
    "\n",
    "epochs    = range(1,len(acc)+1,1) # obtener número de epochs\n",
    "\n",
    "plt.plot  ( epochs,     acc, 'r--', label='Training acc'  )\n",
    "plt.plot  ( epochs, val_acc,  'b', label='Validation acc')\n",
    "plt.title ('Training and validation accuracy')\n",
    "plt.ylabel('acc')\n",
    "#plt.ylim(0,1)\n",
    "plt.xlabel('epochs')\n",
    "\n",
    "plt.legend()\n",
    "plt.figure()\n",
    "\n",
    "\n",
    "plt.plot  ( epochs,     loss, 'r--' )\n",
    "plt.plot  ( epochs, val_loss ,  'b' )\n",
    "plt.title ('Training and validation loss'   )\n",
    "plt.ylabel('loss')\n",
    "plt.xlabel('epochs')\n",
    "#plt.ylim(0,1)\n",
    "\n",
    "plt.legend()\n",
    "plt.figure()\n"
   ]
  },
  {
   "cell_type": "markdown",
   "id": "229f8fbc",
   "metadata": {},
   "source": [
    "# Utilizamos los datos de test para evaluar el modelo"
   ]
  },
  {
   "cell_type": "code",
   "execution_count": 28,
   "id": "474d11b0",
   "metadata": {
    "ExecuteTime": {
     "end_time": "2022-11-13T23:54:11.897423Z",
     "start_time": "2022-11-13T23:54:11.597034Z"
    }
   },
   "outputs": [
    {
     "name": "stdout",
     "output_type": "stream",
     "text": [
      "12/12 [==============================] - 0s 20ms/step - loss: 0.2121 - acc: 0.9500\n",
      "Test Accuracy: 0.9499999284744263\n"
     ]
    }
   ],
   "source": [
    "test_lost, test_acc= modelFT.evaluate(test_generator)\n",
    "print (\"Test Accuracy:\", test_acc)"
   ]
  },
  {
   "cell_type": "code",
   "execution_count": 30,
   "id": "6dcccbb2",
   "metadata": {
    "ExecuteTime": {
     "end_time": "2022-11-13T23:54:28.013087Z",
     "start_time": "2022-11-13T23:54:27.986820Z"
    }
   },
   "outputs": [],
   "source": [
    "modelFT.save('FT.h5')"
   ]
  },
  {
   "cell_type": "code",
   "execution_count": null,
   "id": "f3ae6171",
   "metadata": {},
   "outputs": [],
   "source": []
  }
 ],
 "metadata": {
  "hide_input": false,
  "kernelspec": {
   "display_name": "Python 3 (ipykernel)",
   "language": "python",
   "name": "python3"
  },
  "language_info": {
   "codemirror_mode": {
    "name": "ipython",
    "version": 3
   },
   "file_extension": ".py",
   "mimetype": "text/x-python",
   "name": "python",
   "nbconvert_exporter": "python",
   "pygments_lexer": "ipython3",
   "version": "3.9.13"
  },
  "toc": {
   "base_numbering": 1,
   "nav_menu": {},
   "number_sections": true,
   "sideBar": true,
   "skip_h1_title": false,
   "title_cell": "Table of Contents",
   "title_sidebar": "Contents",
   "toc_cell": false,
   "toc_position": {},
   "toc_section_display": true,
   "toc_window_display": false
  },
  "varInspector": {
   "cols": {
    "lenName": 16,
    "lenType": 16,
    "lenVar": 40
   },
   "kernels_config": {
    "python": {
     "delete_cmd_postfix": "",
     "delete_cmd_prefix": "del ",
     "library": "var_list.py",
     "varRefreshCmd": "print(var_dic_list())"
    },
    "r": {
     "delete_cmd_postfix": ") ",
     "delete_cmd_prefix": "rm(",
     "library": "var_list.r",
     "varRefreshCmd": "cat(var_dic_list()) "
    }
   },
   "types_to_exclude": [
    "module",
    "function",
    "builtin_function_or_method",
    "instance",
    "_Feature"
   ],
   "window_display": false
  }
 },
 "nbformat": 4,
 "nbformat_minor": 5
}
