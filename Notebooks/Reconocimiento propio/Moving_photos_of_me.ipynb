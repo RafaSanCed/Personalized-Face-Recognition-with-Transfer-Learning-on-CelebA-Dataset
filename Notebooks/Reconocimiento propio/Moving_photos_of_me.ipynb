{
 "cells": [
  {
   "cell_type": "code",
   "execution_count": 42,
   "id": "1ca9dbad",
   "metadata": {
    "ExecuteTime": {
     "end_time": "2022-11-08T23:46:49.282817Z",
     "start_time": "2022-11-08T23:46:49.273046Z"
    }
   },
   "outputs": [
    {
     "data": {
      "text/plain": [
       "['1158DD4E-6E9B-4E4B-B510-EF47CC608699.JPG',\n",
       " '20170729_213756_IMG_1487.PNG',\n",
       " '20190601_220817_026E56A4-A2BA-4E04-B27E-BBFB1BD359B4.JPG',\n",
       " '20190602_141152_8CF9EDE1-2E3F-47D8-B8E5-ABBB0C0B7311.JPG',\n",
       " '20190602_141848_5B78D077-C6D3-4288-B7E5-8FB0CAD412F2.JPG',\n",
       " '20190614_145504_331DEA9D-5947-49EA-BE02-F63BD203A051.JPG',\n",
       " '20190622_170737_1A17DA95-8495-47BB-96F7-4B41DF944C78.JPG',\n",
       " '20190624_135738_606C1B29-93E0-46D9-8597-932789D2BFF7.JPG',\n",
       " '20190703_175451_46C5D3B3-E8FE-4100-8515-9B5CBB765F12.JPG',\n",
       " '20190705_175237_86F071B0-74EF-415C-A2DC-AC9E60F9AD48.JPG',\n",
       " '20190705_192431_B0EE61EF-1B25-48CA-91A7-6B7654111310.JPG',\n",
       " '20190708_190943_FBCBDCB3-671D-40BB-A4AB-07067C122000.JPG',\n",
       " '20190709_184319_1F74C50F-867E-4F27-AA8A-EBA9B36C9F0D.JPG',\n",
       " '20190713_000607_58ED1B92-8D14-444C-AE82-24B050B48D2D.JPG',\n",
       " '20190713_073139_4D2FFB61-DB14-4241-BEA0-2C64F1DEABB7.JPG',\n",
       " '20190713_075459_1FF6941D-7A1A-452C-8F18-71B9CA8286F3.JPG',\n",
       " '20190713_121308_C5B37116-D64A-45BF-980D-B7CEBC68B7C9.JPG',\n",
       " '20190713_233348_34C0E658-76DF-4788-93FB-34386589863D.JPG',\n",
       " '20190714_214708_IMG_3790.JPG',\n",
       " '20190715_175525_IMG_3818.JPG',\n",
       " '20190716_162917_458BBE4C-96C1-47AE-8579-CC396284FA86.JPG',\n",
       " '20190822_193252_808A9332-FEFF-46D1-A51D-5C2A6041BC89.JPG',\n",
       " '20190829_114112_F11D2553-3E26-4CDC-A4C3-5B49270C04A4.JPG',\n",
       " '20190829_194649_DFF9125C-ACD9-4CDC-A643-66EE08CAC7F3.JPG',\n",
       " '20190929_125734_624618F4-7F64-4B44-9C89-5F01A6E2DEFD.JPG',\n",
       " '20191225_011556_6950D171-6F18-4F07-A961-7E1F4C266030.JPG',\n",
       " '20191225_011611_0B921DA5-8557-47EF-8C58-BE6157FCD591.JPG',\n",
       " '20200124_183413.jpg',\n",
       " '20200301_221217.jpg',\n",
       " '20200812_193104.jpg',\n",
       " '20201105_171711.jpg',\n",
       " '20201105_171719.jpg',\n",
       " '20201205_220043.jpg',\n",
       " '20201205_220203.jpg',\n",
       " '20201226_223005.jpg',\n",
       " '20210214_145438.jpg',\n",
       " '20210311_111248.jpg',\n",
       " '20220709_211928.jpg',\n",
       " '20220810_170221.jpg',\n",
       " '20220810_170700.jpg',\n",
       " '20220810_170734.jpg',\n",
       " '20220810_170915.jpg',\n",
       " '20220810_171053.jpg',\n",
       " '24077F5A-BD15-49A8-BDA9-A20EC8C9DF1B.JPG',\n",
       " '24485B72-11F4-427E-975E-04582B98C687.JPG',\n",
       " '2F12876D-48ED-4824-9764-1D5A57FD788F.JPG',\n",
       " '3002CA4B-7E69-4678-B128-A89B9D5B9B70.JPG',\n",
       " '3A864E7B-238C-4D9D-88EC-E123E9576B04.JPG',\n",
       " '3BD013C0-F344-48E2-8DCB-37950C38C658.JPG',\n",
       " '54A6F1BB-EADF-4E74-B428-6C36771F6241.JPG',\n",
       " '5A3AE5AB-7273-4DE2-8028-7070E83D2FF0.JPG',\n",
       " '5CFA1123-55D6-4A8E-B4A2-200EDE839E98.JPG',\n",
       " '6629F6B4-9045-4D93-A303-92C3C87ECDB7.JPG',\n",
       " '69FAEA25-6D46-422B-BCBC-96E0436F6597.JPG',\n",
       " '6A7BB2A0-D268-45D4-9E99-AE85689B2039.JPG',\n",
       " '6F898258-A212-40FE-916F-B086E2CB5926.JPG',\n",
       " '801223BC-43C4-4838-AB16-F26E96973D55.JPG',\n",
       " '9324A5EF-F10B-435E-B010-BF05915781D2.JPG',\n",
       " '97B34B64-D3BE-4339-BA74-5D9936B0F013.JPG',\n",
       " '9B4EE4FF-2BF4-42C7-8D85-79024CFC295C.JPG',\n",
       " '9EF1D3FA-1F72-4E75-AA87-DA1B3877FD1F.JPG',\n",
       " 'B519D0B3-FE55-4097-AAD2-999C8FA7446B.JPG',\n",
       " 'B55F8AE8-B600-475A-A7E7-54CC1B3C8F72.JPG',\n",
       " 'BB1D7EF2-26E2-4D7C-89EF-21E9FA88A94C.JPG',\n",
       " 'cap 10.jpg',\n",
       " 'cap1.jpg',\n",
       " 'cap11.jpg',\n",
       " 'cap12.jpg',\n",
       " 'cap13.jpg',\n",
       " 'cap14.jpg',\n",
       " 'cap15.jpg',\n",
       " 'cap16.jpg',\n",
       " 'cap17.jpg',\n",
       " 'cap19.jpg',\n",
       " 'cap2.jpg',\n",
       " 'cap20.jpg',\n",
       " 'cap3.jpg',\n",
       " 'cap4.jpg',\n",
       " 'cap5.jpg',\n",
       " 'cap6.jpg',\n",
       " 'cap7.jpg',\n",
       " 'cap8.jpg',\n",
       " 'cap9.jpg',\n",
       " 'D9D1AB68-8324-4A5A-8DD3-717AAED5DF72.JPG',\n",
       " 'E95E56AF-76D3-45FC-9941-4ED985DE7DBF.JPG',\n",
       " 'FAE250FC-2510-4676-9750-8374A8FCC622.JPG',\n",
       " 'IMG-20200128-WA0000.jpg',\n",
       " 'IMG-20200209-WA0014.jpg',\n",
       " 'IMG-20200313-WA0047.jpg',\n",
       " 'IMG-20200314-WA0003.jpg',\n",
       " 'IMG-20200812-WA0059.jpg',\n",
       " 'IMG-20201025-WA0034.jpg',\n",
       " 'IMG-20201029-WA0036.jpg',\n",
       " 'IMG-20201231-WA0029.jpg',\n",
       " 'IMG_1747.JPG',\n",
       " 'IMG_1898.JPG',\n",
       " 'IMG_1933.JPG',\n",
       " 'IMG_2060.JPG',\n",
       " 'IMG_2086.JPG',\n",
       " 'IMG_3248.JPG',\n",
       " 'IMG_3432.JPG',\n",
       " 'IMG_3929_2.JPG',\n",
       " 'IMG_4046.JPG',\n",
       " 'Screenshot_20210707-222717_WhatsApp.jpg']"
      ]
     },
     "execution_count": 42,
     "metadata": {},
     "output_type": "execute_result"
    }
   ],
   "source": [
    "import os\n",
    "mypath='../../Data/Recognize_me/Total_Me/'\n",
    "allimage = os.listdir(mypath)\n",
    "allimage"
   ]
  },
  {
   "cell_type": "code",
   "execution_count": 43,
   "id": "71290008",
   "metadata": {
    "ExecuteTime": {
     "end_time": "2022-11-08T23:46:49.780015Z",
     "start_time": "2022-11-08T23:46:49.765808Z"
    }
   },
   "outputs": [
    {
     "data": {
      "text/html": [
       "<div>\n",
       "<style scoped>\n",
       "    .dataframe tbody tr th:only-of-type {\n",
       "        vertical-align: middle;\n",
       "    }\n",
       "\n",
       "    .dataframe tbody tr th {\n",
       "        vertical-align: top;\n",
       "    }\n",
       "\n",
       "    .dataframe thead th {\n",
       "        text-align: right;\n",
       "    }\n",
       "</style>\n",
       "<table border=\"1\" class=\"dataframe\">\n",
       "  <thead>\n",
       "    <tr style=\"text-align: right;\">\n",
       "      <th></th>\n",
       "      <th>Image</th>\n",
       "    </tr>\n",
       "  </thead>\n",
       "  <tbody>\n",
       "    <tr>\n",
       "      <th>96</th>\n",
       "      <td>IMG_1933.JPG</td>\n",
       "    </tr>\n",
       "    <tr>\n",
       "      <th>35</th>\n",
       "      <td>20210214_145438.jpg</td>\n",
       "    </tr>\n",
       "    <tr>\n",
       "      <th>81</th>\n",
       "      <td>cap8.jpg</td>\n",
       "    </tr>\n",
       "    <tr>\n",
       "      <th>59</th>\n",
       "      <td>9B4EE4FF-2BF4-42C7-8D85-79024CFC295C.JPG</td>\n",
       "    </tr>\n",
       "    <tr>\n",
       "      <th>38</th>\n",
       "      <td>20220810_170221.jpg</td>\n",
       "    </tr>\n",
       "    <tr>\n",
       "      <th>...</th>\n",
       "      <td>...</td>\n",
       "    </tr>\n",
       "    <tr>\n",
       "      <th>100</th>\n",
       "      <td>IMG_3432.JPG</td>\n",
       "    </tr>\n",
       "    <tr>\n",
       "      <th>13</th>\n",
       "      <td>20190713_000607_58ED1B92-8D14-444C-AE82-24B050...</td>\n",
       "    </tr>\n",
       "    <tr>\n",
       "      <th>68</th>\n",
       "      <td>cap13.jpg</td>\n",
       "    </tr>\n",
       "    <tr>\n",
       "      <th>89</th>\n",
       "      <td>IMG-20200314-WA0003.jpg</td>\n",
       "    </tr>\n",
       "    <tr>\n",
       "      <th>14</th>\n",
       "      <td>20190713_073139_4D2FFB61-DB14-4241-BEA0-2C64F1...</td>\n",
       "    </tr>\n",
       "  </tbody>\n",
       "</table>\n",
       "<p>83 rows × 1 columns</p>\n",
       "</div>"
      ],
      "text/plain": [
       "                                                 Image\n",
       "96                                        IMG_1933.JPG\n",
       "35                                 20210214_145438.jpg\n",
       "81                                            cap8.jpg\n",
       "59            9B4EE4FF-2BF4-42C7-8D85-79024CFC295C.JPG\n",
       "38                                 20220810_170221.jpg\n",
       "..                                                 ...\n",
       "100                                       IMG_3432.JPG\n",
       "13   20190713_000607_58ED1B92-8D14-444C-AE82-24B050...\n",
       "68                                           cap13.jpg\n",
       "89                             IMG-20200314-WA0003.jpg\n",
       "14   20190713_073139_4D2FFB61-DB14-4241-BEA0-2C64F1...\n",
       "\n",
       "[83 rows x 1 columns]"
      ]
     },
     "execution_count": 43,
     "metadata": {},
     "output_type": "execute_result"
    }
   ],
   "source": [
    "import pandas as pd\n",
    "allimagedf = pd.DataFrame(allimage,columns = ['Image'])\n",
    "trainimage = allimagedf.sample(frac =0.8, random_state=1)\n",
    "trainimage"
   ]
  },
  {
   "cell_type": "code",
   "execution_count": 35,
   "id": "387475e6",
   "metadata": {
    "ExecuteTime": {
     "end_time": "2022-11-08T23:40:03.354245Z",
     "start_time": "2022-11-08T23:40:03.337817Z"
    }
   },
   "outputs": [
    {
     "data": {
      "text/plain": [
       "83"
      ]
     },
     "execution_count": 35,
     "metadata": {},
     "output_type": "execute_result"
    }
   ],
   "source": [
    "trainimagelist = list(trainimage['Image'])\n",
    "len(trainimage)"
   ]
  },
  {
   "cell_type": "code",
   "execution_count": 40,
   "id": "7a0a3896",
   "metadata": {
    "ExecuteTime": {
     "end_time": "2022-11-08T23:45:02.495584Z",
     "start_time": "2022-11-08T23:45:02.405354Z"
    }
   },
   "outputs": [],
   "source": [
    "import shutil\n",
    "import glob\n",
    "path_train = '../../Data/Recognize_me/Train/Me'\n",
    "for i in range(0,83): \n",
    "    old_path = os.path.join(mypath,trainimagelist[i])\n",
    "    shutil.copy(old_path, path_train)"
   ]
  },
  {
   "cell_type": "code",
   "execution_count": 44,
   "id": "f4f8cc73",
   "metadata": {
    "ExecuteTime": {
     "end_time": "2022-11-08T23:47:02.648596Z",
     "start_time": "2022-11-08T23:47:02.641596Z"
    }
   },
   "outputs": [
    {
     "data": {
      "text/plain": [
       "10"
      ]
     },
     "execution_count": 44,
     "metadata": {},
     "output_type": "execute_result"
    }
   ],
   "source": [
    "valandtest = allimagedf.drop(trainimage.index)\n",
    "valimage = valandtest.sample(frac = 0.5, random_state=1)\n",
    "len(valimage)"
   ]
  },
  {
   "cell_type": "code",
   "execution_count": 45,
   "id": "1947d748",
   "metadata": {
    "ExecuteTime": {
     "end_time": "2022-11-08T23:47:34.851722Z",
     "start_time": "2022-11-08T23:47:34.843325Z"
    }
   },
   "outputs": [
    {
     "data": {
      "text/plain": [
       "10"
      ]
     },
     "execution_count": 45,
     "metadata": {},
     "output_type": "execute_result"
    }
   ],
   "source": [
    "valimagelist = list(valimage['Image'])\n",
    "len(valimagelist)"
   ]
  },
  {
   "cell_type": "code",
   "execution_count": 47,
   "id": "2b16b10c",
   "metadata": {
    "ExecuteTime": {
     "end_time": "2022-11-08T23:49:07.024471Z",
     "start_time": "2022-11-08T23:49:07.010479Z"
    }
   },
   "outputs": [],
   "source": [
    "path_val = '../../Data/Recognize_me/Val/Me'\n",
    "for i in range(0,10): \n",
    "    old_path = os.path.join(mypath,valimagelist[i])\n",
    "    shutil.copy(old_path, path_val)"
   ]
  },
  {
   "cell_type": "code",
   "execution_count": 29,
   "id": "f78785dd",
   "metadata": {
    "ExecuteTime": {
     "end_time": "2022-11-08T23:37:57.412340Z",
     "start_time": "2022-11-08T23:37:57.403112Z"
    }
   },
   "outputs": [
    {
     "data": {
      "text/html": [
       "<div>\n",
       "<style scoped>\n",
       "    .dataframe tbody tr th:only-of-type {\n",
       "        vertical-align: middle;\n",
       "    }\n",
       "\n",
       "    .dataframe tbody tr th {\n",
       "        vertical-align: top;\n",
       "    }\n",
       "\n",
       "    .dataframe thead th {\n",
       "        text-align: right;\n",
       "    }\n",
       "</style>\n",
       "<table border=\"1\" class=\"dataframe\">\n",
       "  <thead>\n",
       "    <tr style=\"text-align: right;\">\n",
       "      <th></th>\n",
       "      <th>Image</th>\n",
       "    </tr>\n",
       "  </thead>\n",
       "  <tbody>\n",
       "    <tr>\n",
       "      <th>1</th>\n",
       "      <td>20170729_213756_IMG_1487.PNG</td>\n",
       "    </tr>\n",
       "    <tr>\n",
       "      <th>5</th>\n",
       "      <td>20190614_145504_331DEA9D-5947-49EA-BE02-F63BD2...</td>\n",
       "    </tr>\n",
       "    <tr>\n",
       "      <th>12</th>\n",
       "      <td>20190709_184319_1F74C50F-867E-4F27-AA8A-EBA9B3...</td>\n",
       "    </tr>\n",
       "    <tr>\n",
       "      <th>18</th>\n",
       "      <td>20190714_214708_IMG_3790.JPG</td>\n",
       "    </tr>\n",
       "    <tr>\n",
       "      <th>20</th>\n",
       "      <td>20190716_162917_458BBE4C-96C1-47AE-8579-CC3962...</td>\n",
       "    </tr>\n",
       "    <tr>\n",
       "      <th>25</th>\n",
       "      <td>20191225_011556_6950D171-6F18-4F07-A961-7E1F4C...</td>\n",
       "    </tr>\n",
       "    <tr>\n",
       "      <th>29</th>\n",
       "      <td>20200812_193104.jpg</td>\n",
       "    </tr>\n",
       "    <tr>\n",
       "      <th>37</th>\n",
       "      <td>20220709_211928.jpg</td>\n",
       "    </tr>\n",
       "    <tr>\n",
       "      <th>50</th>\n",
       "      <td>5A3AE5AB-7273-4DE2-8028-7070E83D2FF0.JPG</td>\n",
       "    </tr>\n",
       "    <tr>\n",
       "      <th>79</th>\n",
       "      <td>cap6.jpg</td>\n",
       "    </tr>\n",
       "    <tr>\n",
       "      <th>84</th>\n",
       "      <td>E95E56AF-76D3-45FC-9941-4ED985DE7DBF.JPG</td>\n",
       "    </tr>\n",
       "  </tbody>\n",
       "</table>\n",
       "</div>"
      ],
      "text/plain": [
       "                                                Image\n",
       "1                        20170729_213756_IMG_1487.PNG\n",
       "5   20190614_145504_331DEA9D-5947-49EA-BE02-F63BD2...\n",
       "12  20190709_184319_1F74C50F-867E-4F27-AA8A-EBA9B3...\n",
       "18                       20190714_214708_IMG_3790.JPG\n",
       "20  20190716_162917_458BBE4C-96C1-47AE-8579-CC3962...\n",
       "25  20191225_011556_6950D171-6F18-4F07-A961-7E1F4C...\n",
       "29                                20200812_193104.jpg\n",
       "37                                20220709_211928.jpg\n",
       "50           5A3AE5AB-7273-4DE2-8028-7070E83D2FF0.JPG\n",
       "79                                           cap6.jpg\n",
       "84           E95E56AF-76D3-45FC-9941-4ED985DE7DBF.JPG"
      ]
     },
     "execution_count": 29,
     "metadata": {},
     "output_type": "execute_result"
    }
   ],
   "source": [
    "testimage = valandtest.drop(valimage.index)\n",
    "testimage"
   ]
  },
  {
   "cell_type": "code",
   "execution_count": 48,
   "id": "9143eaef",
   "metadata": {
    "ExecuteTime": {
     "end_time": "2022-11-08T23:54:17.911885Z",
     "start_time": "2022-11-08T23:54:17.907384Z"
    }
   },
   "outputs": [
    {
     "data": {
      "text/plain": [
       "11"
      ]
     },
     "execution_count": 48,
     "metadata": {},
     "output_type": "execute_result"
    }
   ],
   "source": [
    "testimagelist = list(testimage['Image'])\n",
    "len(testimagelist)"
   ]
  },
  {
   "cell_type": "code",
   "execution_count": 49,
   "id": "d7a0bb40",
   "metadata": {
    "ExecuteTime": {
     "end_time": "2022-11-08T23:54:41.023957Z",
     "start_time": "2022-11-08T23:54:40.989315Z"
    }
   },
   "outputs": [],
   "source": [
    "path_test = '../../Data/Recognize_me/Test/Me'\n",
    "for i in range(0,11): \n",
    "    old_path = os.path.join(mypath,testimagelist[i])\n",
    "    shutil.copy(old_path, path_test)"
   ]
  },
  {
   "cell_type": "code",
   "execution_count": 24,
   "id": "6f166d06",
   "metadata": {
    "ExecuteTime": {
     "end_time": "2022-11-08T23:31:00.396891Z",
     "start_time": "2022-11-08T23:31:00.385930Z"
    }
   },
   "outputs": [
    {
     "data": {
      "text/plain": [
       "104"
      ]
     },
     "execution_count": 24,
     "metadata": {},
     "output_type": "execute_result"
    }
   ],
   "source": [
    "valimage.shape[0]+trainimage.shape[0]+testimage.shape[0]"
   ]
  }
 ],
 "metadata": {
  "hide_input": false,
  "kernelspec": {
   "display_name": "Python 3 (ipykernel)",
   "language": "python",
   "name": "python3"
  },
  "language_info": {
   "codemirror_mode": {
    "name": "ipython",
    "version": 3
   },
   "file_extension": ".py",
   "mimetype": "text/x-python",
   "name": "python",
   "nbconvert_exporter": "python",
   "pygments_lexer": "ipython3",
   "version": "3.9.12"
  },
  "toc": {
   "base_numbering": 1,
   "nav_menu": {},
   "number_sections": true,
   "sideBar": true,
   "skip_h1_title": false,
   "title_cell": "Table of Contents",
   "title_sidebar": "Contents",
   "toc_cell": false,
   "toc_position": {},
   "toc_section_display": true,
   "toc_window_display": false
  },
  "varInspector": {
   "cols": {
    "lenName": 16,
    "lenType": 16,
    "lenVar": 40
   },
   "kernels_config": {
    "python": {
     "delete_cmd_postfix": "",
     "delete_cmd_prefix": "del ",
     "library": "var_list.py",
     "varRefreshCmd": "print(var_dic_list())"
    },
    "r": {
     "delete_cmd_postfix": ") ",
     "delete_cmd_prefix": "rm(",
     "library": "var_list.r",
     "varRefreshCmd": "cat(var_dic_list()) "
    }
   },
   "types_to_exclude": [
    "module",
    "function",
    "builtin_function_or_method",
    "instance",
    "_Feature"
   ],
   "window_display": false
  }
 },
 "nbformat": 4,
 "nbformat_minor": 5
}
